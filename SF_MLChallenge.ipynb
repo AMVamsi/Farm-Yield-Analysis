{
  "nbformat": 4,
  "nbformat_minor": 0,
  "metadata": {
    "colab": {
      "name": "MLChallenge.ipynb",
      "provenance": [],
      "collapsed_sections": [],
      "toc_visible": true
    },
    "kernelspec": {
      "name": "python3",
      "display_name": "Python 3"
    }
  },
  "cells": [
    {
      "cell_type": "markdown",
      "metadata": {
        "id": "IFD9LGnNs7U9"
      },
      "source": [
        "## Imports"
      ]
    },
    {
      "cell_type": "code",
      "metadata": {
        "id": "tMmzRL82s8i8"
      },
      "source": [
        "import warnings\n",
        " \n",
        "warnings.simplefilter('ignore')\n",
        " \n",
        "import pandas as pd\n",
        " \n",
        "import numpy as np\n",
        " \n",
        "import matplotlib.pyplot as plt\n",
        " \n",
        "import seaborn as sns\n",
        " \n",
        "from sklearn.metrics import r2_score\n",
        " \n",
        "from sklearn.metrics import mean_absolute_error\n",
        " \n",
        "from sklearn.metrics import mean_squared_error\n",
        " \n",
        "from sklearn.model_selection import train_test_split\n",
        " \n",
        "from sklearn.ensemble import RandomForestRegressor\n",
        " \n",
        "from sklearn.linear_model import LinearRegression\n",
        " \n",
        "from sklearn.ensemble import GradientBoostingRegressor\n",
        " \n",
        "from sklearn.ensemble import ExtraTreesRegressor\n",
        " \n",
        "from sklearn.linear_model import BayesianRidge\n",
        " \n",
        "from sklearn.svm import SVR\n",
        " \n",
        "from xgboost import XGBRegressor\n",
        " \n",
        "from sklearn.multioutput import MultiOutputRegressor\n",
        " \n",
        "from sklearn.tree import DecisionTreeRegressor\n",
        " \n",
        "from sklearn.neighbors import KNeighborsRegressor\n",
        " \n",
        "from sklearn.cluster import KMeans\n",
        " \n",
        "from sklearn.preprocessing import LabelEncoder\n",
        " \n",
        "from sklearn.experimental import enable_iterative_imputer\n",
        " \n",
        "from sklearn.impute import IterativeImputer\n",
        " \n",
        "from sklearn.feature_selection import SelectKBest\n",
        " \n",
        "from sklearn.feature_selection import f_regression"
      ],
      "execution_count": null,
      "outputs": []
    },
    {
      "cell_type": "markdown",
      "metadata": {
        "id": "PjP50xr3p8rL"
      },
      "source": [
        "## Data Preprocessing"
      ]
    },
    {
      "cell_type": "code",
      "metadata": {
        "id": "l5Lf1Pr_tIKR"
      },
      "source": [
        "df = pd.read_excel('Master data file.xlsx' , sheet_name = 'Data', header = 3)\n",
        " \n",
        "df.drop(df.columns[0], axis = 1, inplace = True)\n",
        " \n",
        "df = df.iloc[:-1]"
      ],
      "execution_count": null,
      "outputs": []
    },
    {
      "cell_type": "code",
      "metadata": {
        "id": "-ndZhEdMthUk",
        "outputId": "7cfc5ea9-0001-412a-ddc8-f5f4034b05da",
        "colab": {
          "base_uri": "https://localhost:8080/",
          "height": 442
        }
      },
      "source": [
        "df"
      ],
      "execution_count": null,
      "outputs": [
        {
          "output_type": "execute_result",
          "data": {
            "text/html": [
              "<div>\n",
              "<style scoped>\n",
              "    .dataframe tbody tr th:only-of-type {\n",
              "        vertical-align: middle;\n",
              "    }\n",
              "\n",
              "    .dataframe tbody tr th {\n",
              "        vertical-align: top;\n",
              "    }\n",
              "\n",
              "    .dataframe thead th {\n",
              "        text-align: right;\n",
              "    }\n",
              "</style>\n",
              "<table border=\"1\" class=\"dataframe\">\n",
              "  <thead>\n",
              "    <tr style=\"text-align: right;\">\n",
              "      <th></th>\n",
              "      <th>S.No</th>\n",
              "      <th>Farmer ID</th>\n",
              "      <th>Village</th>\n",
              "      <th>Seed type</th>\n",
              "      <th>Month of sowing</th>\n",
              "      <th>Acres cultivated</th>\n",
              "      <th>Seed Used (kilos)</th>\n",
              "      <th>Pesticides used (kilos)</th>\n",
              "      <th>Fungicides (kilos)</th>\n",
              "      <th>Herbicides (kilos)</th>\n",
              "      <th>Fertilizers used (kilos)</th>\n",
              "      <th>Gross cob quantity (kilos)</th>\n",
              "      <th>Yield/acre \\n(Col M/Col G) (kilos)</th>\n",
              "      <th>Yield/seed used \\n(Col M/ Col H) (kilos)</th>\n",
              "    </tr>\n",
              "  </thead>\n",
              "  <tbody>\n",
              "    <tr>\n",
              "      <th>0</th>\n",
              "      <td>1.0</td>\n",
              "      <td>FID1001</td>\n",
              "      <td>Chekkapalli</td>\n",
              "      <td>GP206</td>\n",
              "      <td>October</td>\n",
              "      <td>0.8</td>\n",
              "      <td>4.5</td>\n",
              "      <td>1.082</td>\n",
              "      <td>0.81</td>\n",
              "      <td>1.5</td>\n",
              "      <td>652.6</td>\n",
              "      <td>2815</td>\n",
              "      <td>3518.750000</td>\n",
              "      <td>625.555556</td>\n",
              "    </tr>\n",
              "    <tr>\n",
              "      <th>1</th>\n",
              "      <td>2.0</td>\n",
              "      <td>FID1003</td>\n",
              "      <td>Chekkapalli</td>\n",
              "      <td>GP208</td>\n",
              "      <td>November</td>\n",
              "      <td>2.0</td>\n",
              "      <td>15.3</td>\n",
              "      <td>0.264</td>\n",
              "      <td>1.12</td>\n",
              "      <td>3.0</td>\n",
              "      <td>705.0</td>\n",
              "      <td>9475</td>\n",
              "      <td>4737.500000</td>\n",
              "      <td>619.281046</td>\n",
              "    </tr>\n",
              "    <tr>\n",
              "      <th>2</th>\n",
              "      <td>3.0</td>\n",
              "      <td>FID1004</td>\n",
              "      <td>Chekkapalli</td>\n",
              "      <td>GP208</td>\n",
              "      <td>November</td>\n",
              "      <td>1.4</td>\n",
              "      <td>11.8</td>\n",
              "      <td>0.464</td>\n",
              "      <td>0.82</td>\n",
              "      <td>3.5</td>\n",
              "      <td>502.5</td>\n",
              "      <td>6980</td>\n",
              "      <td>4985.714286</td>\n",
              "      <td>591.525424</td>\n",
              "    </tr>\n",
              "    <tr>\n",
              "      <th>3</th>\n",
              "      <td>4.0</td>\n",
              "      <td>FID1005</td>\n",
              "      <td>Chekkapalli</td>\n",
              "      <td>GP208</td>\n",
              "      <td>November</td>\n",
              "      <td>3.2</td>\n",
              "      <td>23.4</td>\n",
              "      <td>0.696</td>\n",
              "      <td>1.80</td>\n",
              "      <td>4.5</td>\n",
              "      <td>782.7</td>\n",
              "      <td>13425</td>\n",
              "      <td>4195.312500</td>\n",
              "      <td>573.717949</td>\n",
              "    </tr>\n",
              "    <tr>\n",
              "      <th>4</th>\n",
              "      <td>5.0</td>\n",
              "      <td>FID1006</td>\n",
              "      <td>Chekkapalli</td>\n",
              "      <td>GP208</td>\n",
              "      <td>November</td>\n",
              "      <td>1.7</td>\n",
              "      <td>13.0</td>\n",
              "      <td>0.564</td>\n",
              "      <td>1.12</td>\n",
              "      <td>4.0</td>\n",
              "      <td>1005.0</td>\n",
              "      <td>6950</td>\n",
              "      <td>4088.235294</td>\n",
              "      <td>534.615385</td>\n",
              "    </tr>\n",
              "    <tr>\n",
              "      <th>...</th>\n",
              "      <td>...</td>\n",
              "      <td>...</td>\n",
              "      <td>...</td>\n",
              "      <td>...</td>\n",
              "      <td>...</td>\n",
              "      <td>...</td>\n",
              "      <td>...</td>\n",
              "      <td>...</td>\n",
              "      <td>...</td>\n",
              "      <td>...</td>\n",
              "      <td>...</td>\n",
              "      <td>...</td>\n",
              "      <td>...</td>\n",
              "      <td>...</td>\n",
              "    </tr>\n",
              "    <tr>\n",
              "      <th>955</th>\n",
              "      <td>956.0</td>\n",
              "      <td>FID3156</td>\n",
              "      <td>Polavaram</td>\n",
              "      <td>GP803</td>\n",
              "      <td>December</td>\n",
              "      <td>2.0</td>\n",
              "      <td>11.6</td>\n",
              "      <td>0.064</td>\n",
              "      <td>0.00</td>\n",
              "      <td>4.0</td>\n",
              "      <td>200.0</td>\n",
              "      <td>4990</td>\n",
              "      <td>2495.000000</td>\n",
              "      <td>430.172414</td>\n",
              "    </tr>\n",
              "    <tr>\n",
              "      <th>956</th>\n",
              "      <td>957.0</td>\n",
              "      <td>FID3157</td>\n",
              "      <td>Polavaram</td>\n",
              "      <td>GP803</td>\n",
              "      <td>December</td>\n",
              "      <td>1.0</td>\n",
              "      <td>5.8</td>\n",
              "      <td>0.232</td>\n",
              "      <td>0.29</td>\n",
              "      <td>2.0</td>\n",
              "      <td>550.0</td>\n",
              "      <td>1330</td>\n",
              "      <td>1330.000000</td>\n",
              "      <td>229.310345</td>\n",
              "    </tr>\n",
              "    <tr>\n",
              "      <th>957</th>\n",
              "      <td>958.0</td>\n",
              "      <td>FID3160</td>\n",
              "      <td>Polavaram</td>\n",
              "      <td>GP208</td>\n",
              "      <td>December</td>\n",
              "      <td>1.0</td>\n",
              "      <td>7.8</td>\n",
              "      <td>0.000</td>\n",
              "      <td>0.00</td>\n",
              "      <td>0.0</td>\n",
              "      <td>0.0</td>\n",
              "      <td>2630</td>\n",
              "      <td>2630.000000</td>\n",
              "      <td>337.179487</td>\n",
              "    </tr>\n",
              "    <tr>\n",
              "      <th>958</th>\n",
              "      <td>959.0</td>\n",
              "      <td>FID3189</td>\n",
              "      <td>Polavaram</td>\n",
              "      <td>GP803</td>\n",
              "      <td>January</td>\n",
              "      <td>0.8</td>\n",
              "      <td>4.3</td>\n",
              "      <td>0.730</td>\n",
              "      <td>0.87</td>\n",
              "      <td>0.0</td>\n",
              "      <td>0.0</td>\n",
              "      <td>1690</td>\n",
              "      <td>2112.500000</td>\n",
              "      <td>393.023256</td>\n",
              "    </tr>\n",
              "    <tr>\n",
              "      <th>959</th>\n",
              "      <td>960.0</td>\n",
              "      <td>FID3190</td>\n",
              "      <td>Polavaram</td>\n",
              "      <td>GP803</td>\n",
              "      <td>January</td>\n",
              "      <td>2.0</td>\n",
              "      <td>11.4</td>\n",
              "      <td>0.720</td>\n",
              "      <td>1.34</td>\n",
              "      <td>4.0</td>\n",
              "      <td>700.7</td>\n",
              "      <td>2990</td>\n",
              "      <td>1495.000000</td>\n",
              "      <td>262.280702</td>\n",
              "    </tr>\n",
              "  </tbody>\n",
              "</table>\n",
              "<p>960 rows × 14 columns</p>\n",
              "</div>"
            ],
            "text/plain": [
              "      S.No  ... Yield/seed used \\n(Col M/ Col H) (kilos)\n",
              "0      1.0  ...                               625.555556\n",
              "1      2.0  ...                               619.281046\n",
              "2      3.0  ...                               591.525424\n",
              "3      4.0  ...                               573.717949\n",
              "4      5.0  ...                               534.615385\n",
              "..     ...  ...                                      ...\n",
              "955  956.0  ...                               430.172414\n",
              "956  957.0  ...                               229.310345\n",
              "957  958.0  ...                               337.179487\n",
              "958  959.0  ...                               393.023256\n",
              "959  960.0  ...                               262.280702\n",
              "\n",
              "[960 rows x 14 columns]"
            ]
          },
          "metadata": {
            "tags": []
          },
          "execution_count": 3
        }
      ]
    },
    {
      "cell_type": "code",
      "metadata": {
        "id": "G8O0b3Wc09m8",
        "outputId": "3a96e994-cd6f-4fe2-f9c1-6ba290228bab",
        "colab": {
          "base_uri": "https://localhost:8080/",
          "height": 290
        }
      },
      "source": [
        "df['Yield/acre \\n(Col M/Col G) (kilos)'].fillna(0, inplace = True)\n",
        "\n",
        "df['Yield/seed used \\n(Col M/ Col H) (kilos)'].fillna(0.0 , inplace  = True)\n",
        "\n",
        "df = df.rename(columns={\"Yield/acre \\n(Col M/Col G) (kilos)\": \"Yield per Acre (kilos)\" , \"Yield/seed used \\n(Col M/ Col H) (kilos)\" : \"Yield per Seed (kilos)\"})\n",
        "\n",
        "df.isnull().sum()"
      ],
      "execution_count": null,
      "outputs": [
        {
          "output_type": "execute_result",
          "data": {
            "text/plain": [
              "S.No                          0\n",
              "Farmer ID                     0\n",
              "Village                       0\n",
              "Seed type                     0\n",
              "Month of sowing               0\n",
              "Acres cultivated              0\n",
              "Seed Used (kilos)             0\n",
              "Pesticides used (kilos)       0\n",
              "Fungicides (kilos)            0\n",
              "Herbicides (kilos)            0\n",
              "Fertilizers used (kilos)      0\n",
              "Gross cob quantity (kilos)    0\n",
              "Yield per Acre (kilos)        0\n",
              "Yield per Seed (kilos)        0\n",
              "dtype: int64"
            ]
          },
          "metadata": {
            "tags": []
          },
          "execution_count": 4
        }
      ]
    },
    {
      "cell_type": "code",
      "metadata": {
        "id": "hoF7vU_k1uEE",
        "outputId": "43b2c670-de6d-4334-c3c1-6f6b129eb1b6",
        "colab": {
          "base_uri": "https://localhost:8080/",
          "height": 479
        }
      },
      "source": [
        "df = df.replace(0 , np.nan)\n",
        "\n",
        "data_label_encoder = LabelEncoder()\n",
        "\n",
        "encoded_list = data_label_encoder.fit_transform(df['Farmer ID'])\n",
        "\n",
        "df['EncodedFarmerID'] = encoded_list\n",
        "\n",
        "encoded_list = data_label_encoder.fit_transform(df['Village'])\n",
        "\n",
        "df['EncodedVillage'] = encoded_list\n",
        "\n",
        "encoded_list = data_label_encoder.fit_transform(df['Seed type'])\n",
        "\n",
        "df['EncodedSeedType'] = encoded_list\n",
        "\n",
        "encoded_list = data_label_encoder.fit_transform(df['Month of sowing'])\n",
        "\n",
        "df['EncodedMonth'] = encoded_list\n",
        "\n",
        "df = df.drop(['Farmer ID','Village','Seed type','Month of sowing'] , axis = 1)\n",
        "\n",
        "df = df[['S.No','EncodedFarmerID','EncodedVillage','EncodedSeedType','EncodedMonth','Acres cultivated','Seed Used (kilos)','Pesticides used (kilos)','Fungicides (kilos)','Herbicides (kilos)','Fertilizers used (kilos)','Gross cob quantity (kilos)','Yield per Acre (kilos)','Yield per Seed (kilos)']]\n",
        "\n",
        "df"
      ],
      "execution_count": null,
      "outputs": [
        {
          "output_type": "execute_result",
          "data": {
            "text/html": [
              "<div>\n",
              "<style scoped>\n",
              "    .dataframe tbody tr th:only-of-type {\n",
              "        vertical-align: middle;\n",
              "    }\n",
              "\n",
              "    .dataframe tbody tr th {\n",
              "        vertical-align: top;\n",
              "    }\n",
              "\n",
              "    .dataframe thead th {\n",
              "        text-align: right;\n",
              "    }\n",
              "</style>\n",
              "<table border=\"1\" class=\"dataframe\">\n",
              "  <thead>\n",
              "    <tr style=\"text-align: right;\">\n",
              "      <th></th>\n",
              "      <th>S.No</th>\n",
              "      <th>EncodedFarmerID</th>\n",
              "      <th>EncodedVillage</th>\n",
              "      <th>EncodedSeedType</th>\n",
              "      <th>EncodedMonth</th>\n",
              "      <th>Acres cultivated</th>\n",
              "      <th>Seed Used (kilos)</th>\n",
              "      <th>Pesticides used (kilos)</th>\n",
              "      <th>Fungicides (kilos)</th>\n",
              "      <th>Herbicides (kilos)</th>\n",
              "      <th>Fertilizers used (kilos)</th>\n",
              "      <th>Gross cob quantity (kilos)</th>\n",
              "      <th>Yield per Acre (kilos)</th>\n",
              "      <th>Yield per Seed (kilos)</th>\n",
              "    </tr>\n",
              "  </thead>\n",
              "  <tbody>\n",
              "    <tr>\n",
              "      <th>0</th>\n",
              "      <td>1.0</td>\n",
              "      <td>212</td>\n",
              "      <td>0</td>\n",
              "      <td>1</td>\n",
              "      <td>3</td>\n",
              "      <td>0.8</td>\n",
              "      <td>4.5</td>\n",
              "      <td>1.082</td>\n",
              "      <td>0.81</td>\n",
              "      <td>1.5</td>\n",
              "      <td>652.6</td>\n",
              "      <td>2815</td>\n",
              "      <td>3518.750000</td>\n",
              "      <td>625.555556</td>\n",
              "    </tr>\n",
              "    <tr>\n",
              "      <th>1</th>\n",
              "      <td>2.0</td>\n",
              "      <td>213</td>\n",
              "      <td>0</td>\n",
              "      <td>2</td>\n",
              "      <td>2</td>\n",
              "      <td>2.0</td>\n",
              "      <td>15.3</td>\n",
              "      <td>0.264</td>\n",
              "      <td>1.12</td>\n",
              "      <td>3.0</td>\n",
              "      <td>705.0</td>\n",
              "      <td>9475</td>\n",
              "      <td>4737.500000</td>\n",
              "      <td>619.281046</td>\n",
              "    </tr>\n",
              "    <tr>\n",
              "      <th>2</th>\n",
              "      <td>3.0</td>\n",
              "      <td>214</td>\n",
              "      <td>0</td>\n",
              "      <td>2</td>\n",
              "      <td>2</td>\n",
              "      <td>1.4</td>\n",
              "      <td>11.8</td>\n",
              "      <td>0.464</td>\n",
              "      <td>0.82</td>\n",
              "      <td>3.5</td>\n",
              "      <td>502.5</td>\n",
              "      <td>6980</td>\n",
              "      <td>4985.714286</td>\n",
              "      <td>591.525424</td>\n",
              "    </tr>\n",
              "    <tr>\n",
              "      <th>3</th>\n",
              "      <td>4.0</td>\n",
              "      <td>215</td>\n",
              "      <td>0</td>\n",
              "      <td>2</td>\n",
              "      <td>2</td>\n",
              "      <td>3.2</td>\n",
              "      <td>23.4</td>\n",
              "      <td>0.696</td>\n",
              "      <td>1.80</td>\n",
              "      <td>4.5</td>\n",
              "      <td>782.7</td>\n",
              "      <td>13425</td>\n",
              "      <td>4195.312500</td>\n",
              "      <td>573.717949</td>\n",
              "    </tr>\n",
              "    <tr>\n",
              "      <th>4</th>\n",
              "      <td>5.0</td>\n",
              "      <td>216</td>\n",
              "      <td>0</td>\n",
              "      <td>2</td>\n",
              "      <td>2</td>\n",
              "      <td>1.7</td>\n",
              "      <td>13.0</td>\n",
              "      <td>0.564</td>\n",
              "      <td>1.12</td>\n",
              "      <td>4.0</td>\n",
              "      <td>1005.0</td>\n",
              "      <td>6950</td>\n",
              "      <td>4088.235294</td>\n",
              "      <td>534.615385</td>\n",
              "    </tr>\n",
              "    <tr>\n",
              "      <th>...</th>\n",
              "      <td>...</td>\n",
              "      <td>...</td>\n",
              "      <td>...</td>\n",
              "      <td>...</td>\n",
              "      <td>...</td>\n",
              "      <td>...</td>\n",
              "      <td>...</td>\n",
              "      <td>...</td>\n",
              "      <td>...</td>\n",
              "      <td>...</td>\n",
              "      <td>...</td>\n",
              "      <td>...</td>\n",
              "      <td>...</td>\n",
              "      <td>...</td>\n",
              "    </tr>\n",
              "    <tr>\n",
              "      <th>955</th>\n",
              "      <td>956.0</td>\n",
              "      <td>794</td>\n",
              "      <td>8</td>\n",
              "      <td>6</td>\n",
              "      <td>0</td>\n",
              "      <td>2.0</td>\n",
              "      <td>11.6</td>\n",
              "      <td>0.064</td>\n",
              "      <td>NaN</td>\n",
              "      <td>4.0</td>\n",
              "      <td>200.0</td>\n",
              "      <td>4990</td>\n",
              "      <td>2495.000000</td>\n",
              "      <td>430.172414</td>\n",
              "    </tr>\n",
              "    <tr>\n",
              "      <th>956</th>\n",
              "      <td>957.0</td>\n",
              "      <td>795</td>\n",
              "      <td>8</td>\n",
              "      <td>6</td>\n",
              "      <td>0</td>\n",
              "      <td>1.0</td>\n",
              "      <td>5.8</td>\n",
              "      <td>0.232</td>\n",
              "      <td>0.29</td>\n",
              "      <td>2.0</td>\n",
              "      <td>550.0</td>\n",
              "      <td>1330</td>\n",
              "      <td>1330.000000</td>\n",
              "      <td>229.310345</td>\n",
              "    </tr>\n",
              "    <tr>\n",
              "      <th>957</th>\n",
              "      <td>958.0</td>\n",
              "      <td>797</td>\n",
              "      <td>8</td>\n",
              "      <td>2</td>\n",
              "      <td>0</td>\n",
              "      <td>1.0</td>\n",
              "      <td>7.8</td>\n",
              "      <td>NaN</td>\n",
              "      <td>NaN</td>\n",
              "      <td>NaN</td>\n",
              "      <td>NaN</td>\n",
              "      <td>2630</td>\n",
              "      <td>2630.000000</td>\n",
              "      <td>337.179487</td>\n",
              "    </tr>\n",
              "    <tr>\n",
              "      <th>958</th>\n",
              "      <td>959.0</td>\n",
              "      <td>820</td>\n",
              "      <td>8</td>\n",
              "      <td>6</td>\n",
              "      <td>1</td>\n",
              "      <td>0.8</td>\n",
              "      <td>4.3</td>\n",
              "      <td>0.730</td>\n",
              "      <td>0.87</td>\n",
              "      <td>NaN</td>\n",
              "      <td>NaN</td>\n",
              "      <td>1690</td>\n",
              "      <td>2112.500000</td>\n",
              "      <td>393.023256</td>\n",
              "    </tr>\n",
              "    <tr>\n",
              "      <th>959</th>\n",
              "      <td>960.0</td>\n",
              "      <td>821</td>\n",
              "      <td>8</td>\n",
              "      <td>6</td>\n",
              "      <td>1</td>\n",
              "      <td>2.0</td>\n",
              "      <td>11.4</td>\n",
              "      <td>0.720</td>\n",
              "      <td>1.34</td>\n",
              "      <td>4.0</td>\n",
              "      <td>700.7</td>\n",
              "      <td>2990</td>\n",
              "      <td>1495.000000</td>\n",
              "      <td>262.280702</td>\n",
              "    </tr>\n",
              "  </tbody>\n",
              "</table>\n",
              "<p>960 rows × 14 columns</p>\n",
              "</div>"
            ],
            "text/plain": [
              "      S.No  EncodedFarmerID  ...  Yield per Acre (kilos)  Yield per Seed (kilos)\n",
              "0      1.0              212  ...             3518.750000              625.555556\n",
              "1      2.0              213  ...             4737.500000              619.281046\n",
              "2      3.0              214  ...             4985.714286              591.525424\n",
              "3      4.0              215  ...             4195.312500              573.717949\n",
              "4      5.0              216  ...             4088.235294              534.615385\n",
              "..     ...              ...  ...                     ...                     ...\n",
              "955  956.0              794  ...             2495.000000              430.172414\n",
              "956  957.0              795  ...             1330.000000              229.310345\n",
              "957  958.0              797  ...             2630.000000              337.179487\n",
              "958  959.0              820  ...             2112.500000              393.023256\n",
              "959  960.0              821  ...             1495.000000              262.280702\n",
              "\n",
              "[960 rows x 14 columns]"
            ]
          },
          "metadata": {
            "tags": []
          },
          "execution_count": 5
        }
      ]
    },
    {
      "cell_type": "markdown",
      "metadata": {
        "id": "qo0F4MrPUPvX"
      },
      "source": [
        "## Iterative Imputer"
      ]
    },
    {
      "cell_type": "code",
      "metadata": {
        "id": "_5x73uWAGylt"
      },
      "source": [
        "def iterative_imputer(df , est = BayesianRidge()) :\n",
        "  \n",
        "  X = df.drop(['S.No' , 'EncodedFarmerID'] , axis = 1)\n",
        "  \n",
        "  imp = IterativeImputer(missing_values = np.nan , max_iter = 10 , min_value = 0)\n",
        "\n",
        "  imp.fit(X)\n",
        "\n",
        "  IterativeImputer()\n",
        "\n",
        "  X = imp.transform(X)\n",
        "\n",
        "  dataframe = pd.DataFrame(X , columns = df.drop(['S.No' , 'EncodedFarmerID'] , axis = 1).columns)\n",
        "\n",
        "  dataframe.insert(0 , 'S.No' , df['S.No'])\n",
        "\n",
        "  dataframe.insert(1 , 'EncodedFarmerID' , df['EncodedFarmerID'])\n",
        "\n",
        "  return dataframe"
      ],
      "execution_count": null,
      "outputs": []
    },
    {
      "cell_type": "markdown",
      "metadata": {
        "id": "DjsjSG-bs8Uy"
      },
      "source": [
        "## Regression Functions"
      ]
    },
    {
      "cell_type": "code",
      "metadata": {
        "id": "-6SoEoHxnW7w"
      },
      "source": [
        "def error_rate(y_test , y_pred , algo = ' Linear Regression') :\n",
        "\n",
        "  print(algo + '\\n')\n",
        "  \n",
        "  print(\" Mean Absolute Error : \", round(mean_absolute_error(y_test, y_pred) , 3))  \n",
        "\n",
        "  print(\" Mean Squared Error : \", round(mean_squared_error(y_test, y_pred) , 3))  \n",
        "\n",
        "  print(\" Root Mean Squared Error : \", round(np.sqrt(mean_squared_error(y_test, y_pred)) , 3))\n",
        "\n",
        "  print(\" R2 Score : \", round(r2_score(y_test,y_pred) , 3))\n",
        "\n",
        "  print('\\n')"
      ],
      "execution_count": null,
      "outputs": []
    },
    {
      "cell_type": "code",
      "metadata": {
        "id": "GGox-nAlnVuX"
      },
      "source": [
        "def regression_module(X_train, y_train, X_test, y_test) :\n",
        "  \n",
        "  reg = LinearRegression()\n",
        "\n",
        "  reg.fit(X_train , y_train)\n",
        "\n",
        "  y_pred = reg.predict(X_test)\n",
        "\n",
        "  error_rate(y_test , y_pred)\n",
        "\n",
        "  del reg , y_pred\n",
        "\n",
        "\n",
        "  reg = RandomForestRegressor()\n",
        "\n",
        "  reg.fit(X_train , y_train)\n",
        "\n",
        "  y_pred = reg.predict(X_test)\n",
        "\n",
        "  error_rate(y_test , y_pred , ' Random Forest Regression')\n",
        "\n",
        "  del reg , y_pred\n",
        "\n",
        "\n",
        "\n",
        "  reg = GradientBoostingRegressor()\n",
        "\n",
        "  reggb = MultiOutputRegressor(reg, n_jobs=-1)\n",
        "  \n",
        "  reggb.fit(X_train , y_train)\n",
        "\n",
        "  y_pred = reggb.predict(X_test)\n",
        "\n",
        "  error_rate(y_test , y_pred , ' Gradient Boosting Regression')\n",
        "\n",
        "  del reg , y_pred , reggb\n",
        "\n",
        "\n",
        "  reg = ExtraTreesRegressor()\n",
        "\n",
        "  reg.fit(X_train , y_train)\n",
        "\n",
        "  y_pred = reg.predict(X_test)\n",
        "\n",
        "  error_rate(y_test , y_pred , ' Extra Trees Regressor')\n",
        "\n",
        "  del reg , y_pred\n",
        "\n",
        "\n",
        "  reg = XGBRegressor(objective = 'reg:squarederror')\n",
        "\n",
        "  regxgb = MultiOutputRegressor(reg, n_jobs=-1)\n",
        "  \n",
        "  regxgb.fit(X_train , y_train)\n",
        "\n",
        "  y_pred = regxgb.predict(X_test)\n",
        "\n",
        "  error_rate(y_test , y_pred , ' XGBoost Regressor')\n",
        "\n",
        "  del reg , y_pred , regxgb\n",
        "\n",
        "\n",
        "  reg  = SVR()\n",
        "\n",
        "  regsvr = MultiOutputRegressor(reg, n_jobs = -1)\n",
        "\n",
        "  regsvr.fit(X_train,y_train)\n",
        "\n",
        "  y_pred  = regsvr.predict(X_test)\n",
        "\n",
        "  error_rate(y_test , y_pred , 'LinearSVR Regression')\n",
        "\n",
        "  del reg , y_pred , regsvr"
      ],
      "execution_count": null,
      "outputs": []
    },
    {
      "cell_type": "markdown",
      "metadata": {
        "id": "HrajG06MtC6k"
      },
      "source": [
        "## Selecting Top 5 Features Considering Yield per Acre (kilos) as Output Variable"
      ]
    },
    {
      "cell_type": "code",
      "metadata": {
        "id": "K4EBAYNasiA5"
      },
      "source": [
        "def top_5_features_variable1(dataframe) :\n",
        "\n",
        "  print(' Top 5 Features With Yield per Acre (kilos) as Output Variable \\n')\n",
        "  \n",
        "  X = dataframe.drop(['S.No', 'EncodedFarmerID','Gross cob quantity (kilos)' , 'Yield per Acre (kilos)','Yield per Seed (kilos)'] , axis = 1)\n",
        "\n",
        "  y = dataframe[['Yield per Acre (kilos)']]\n",
        "  \n",
        "  select_k_best = SelectKBest(f_regression , k = 5)\n",
        "\n",
        "  k_best = select_k_best.fit(X , y)\n",
        "\n",
        "  data = pd.DataFrame(dict(Features = X.columns , Importance = select_k_best.scores_)).sort_values('Importance', ascending = False).head(5)\n",
        "\n",
        "  return data"
      ],
      "execution_count": null,
      "outputs": []
    },
    {
      "cell_type": "markdown",
      "metadata": {
        "id": "31hikqVytKNe"
      },
      "source": [
        "## Selecting Top 5 Features Considering Yield per Seed (kilos) as Output Variable"
      ]
    },
    {
      "cell_type": "code",
      "metadata": {
        "id": "XxNhLAXzszHa"
      },
      "source": [
        "def top_5_features_variable2(dataframe) :\n",
        "\n",
        "  print(' Top 5 Features With Yield per Seed (kilos) as Output Variable \\n')\n",
        "  \n",
        "  X = dataframe.drop(['S.No', 'EncodedFarmerID','Gross cob quantity (kilos)' , 'Yield per Acre (kilos)','Yield per Seed (kilos)'], axis = 1)\n",
        "\n",
        "  y = dataframe[['Yield per Seed (kilos)']]\n",
        "  \n",
        "  select_k_best = SelectKBest(f_regression , k = 5)\n",
        "\n",
        "  k_best = select_k_best.fit(X , y)\n",
        "\n",
        "  data = pd.DataFrame(dict(Features = X.columns , Importance = select_k_best.scores_)).sort_values('Importance', ascending = False).head(5)\n",
        "\n",
        "  return data"
      ],
      "execution_count": null,
      "outputs": []
    },
    {
      "cell_type": "markdown",
      "metadata": {
        "id": "dmihjRN3vzTh"
      },
      "source": [
        "## Selecting Top 5 Features Considering Gross cob quantity (kilos) as the Output Variable"
      ]
    },
    {
      "cell_type": "code",
      "metadata": {
        "id": "zIhvGNCsvytY"
      },
      "source": [
        "def top_5_features_variable3(dataframe) :\n",
        "\n",
        "  print(' Top 5 Features With Gross cob quantity (kilos) as Output Variable \\n')\n",
        "  \n",
        "  X = dataframe.drop(['S.No', 'EncodedFarmerID','Gross cob quantity (kilos)' , 'Yield per Acre (kilos)','Yield per Seed (kilos)'], axis = 1)\n",
        "\n",
        "  y = dataframe[['Gross cob quantity (kilos)']]\n",
        "  \n",
        "  select_k_best = SelectKBest(f_regression , k = 5)\n",
        "\n",
        "  k_best = select_k_best.fit(X , y)\n",
        "\n",
        "  data = pd.DataFrame(dict(Features = X.columns , Importance = select_k_best.scores_)).sort_values('Importance', ascending = False).head(5)\n",
        "\n",
        "  return data"
      ],
      "execution_count": null,
      "outputs": []
    },
    {
      "cell_type": "markdown",
      "metadata": {
        "id": "1rJov9CW6HdP"
      },
      "source": [
        "## Selecting Features for all the three Output Variables in Descending Order\n"
      ]
    },
    {
      "cell_type": "code",
      "metadata": {
        "id": "eTx-Y_u-6M5D"
      },
      "source": [
        "def top_features(dataframe) :\n",
        "  \n",
        "  d = {}\n",
        "\n",
        "  X = dataframe.drop(['S.No', 'EncodedFarmerID','Gross cob quantity (kilos)' , 'Yield per Acre (kilos)','Yield per Seed (kilos)'] , axis = 1)\n",
        "\n",
        "  y = dataframe[['Gross cob quantity (kilos)' , 'Yield per Acre (kilos)','Yield per Seed (kilos)']]\n",
        "  \n",
        "  for i in X.columns :\n",
        "\n",
        "    x = X.drop([i], axis=1)\n",
        "\n",
        "    X_train , X_test , y_train , y_test = train_test_split(x , y , test_size = 0.15)\n",
        "\n",
        "    reg = GradientBoostingRegressor()\n",
        "\n",
        "    reggb = MultiOutputRegressor(reg, n_jobs = -1)\n",
        "\n",
        "    reggb.fit(X_train,y_train)\n",
        "\n",
        "    y_pred = reggb.predict(X_test)\n",
        "\n",
        "    d[i] = r2_score(y_test, y_pred)\n",
        "\n",
        "    del reg , reggb ,  y_pred , x, X_train , X_test , y_train , y_test\n",
        "\n",
        "  d = {k: v for k, v in sorted(d.items(), key=lambda x: x[1])}\n",
        "\n",
        "  print(' Most to least important ')\n",
        "\n",
        "  print('\\n')\n",
        "\n",
        "  count = 1\n",
        "  \n",
        "  for i in d.keys() :\n",
        "\n",
        "    print(' ' + str(count) + '. ' + i)\n",
        "\n",
        "    count = count + 1\n",
        "\n",
        "    print('\\n')"
      ],
      "execution_count": null,
      "outputs": []
    },
    {
      "cell_type": "markdown",
      "metadata": {
        "id": "_Utx3Oajm_YG"
      },
      "source": [
        "## Iterative Imputer With Bayesian Ridge"
      ]
    },
    {
      "cell_type": "code",
      "metadata": {
        "id": "eaPme1Epn1td",
        "outputId": "a096e916-486c-4bb0-f30e-7698ce8a34c3",
        "colab": {
          "base_uri": "https://localhost:8080/",
          "height": 890
        }
      },
      "source": [
        "dataframe = iterative_imputer(df)\n",
        "\n",
        "X = dataframe.drop(['S.No', 'EncodedFarmerID','Gross cob quantity (kilos)' , 'Yield per Acre (kilos)','Yield per Seed (kilos)'] , axis = 1)\n",
        "\n",
        "y = dataframe[['Gross cob quantity (kilos)' , 'Yield per Acre (kilos)','Yield per Seed (kilos)']]\n",
        "\n",
        "X_train , X_test , y_train , y_test = train_test_split(X , y , test_size = 0.15)\n",
        "\n",
        "regression_module(X_train , y_train , X_test , y_test)"
      ],
      "execution_count": null,
      "outputs": [
        {
          "output_type": "stream",
          "text": [
            " Linear Regression\n",
            "\n",
            " Mean Absolute Error :  713.4\n",
            " Mean Squared Error :  1458404.403\n",
            " Root Mean Squared Error :  1207.644\n",
            " R2 Score :  0.428\n",
            "\n",
            "\n",
            " Random Forest Regression\n",
            "\n",
            " Mean Absolute Error :  700.111\n",
            " Mean Squared Error :  1778625.823\n",
            " Root Mean Squared Error :  1333.651\n",
            " R2 Score :  0.561\n",
            "\n",
            "\n",
            " Gradient Boosting Regression\n",
            "\n",
            " Mean Absolute Error :  635.121\n",
            " Mean Squared Error :  1439186.561\n",
            " Root Mean Squared Error :  1199.661\n",
            " R2 Score :  0.654\n",
            "\n",
            "\n",
            " Extra Trees Regressor\n",
            "\n",
            " Mean Absolute Error :  633.248\n",
            " Mean Squared Error :  1651483.854\n",
            " Root Mean Squared Error :  1285.101\n",
            " R2 Score :  0.615\n",
            "\n",
            "\n",
            " XGBoost Regressor\n",
            "\n",
            " Mean Absolute Error :  635.992\n",
            " Mean Squared Error :  1368687.14\n",
            " Root Mean Squared Error :  1169.909\n",
            " R2 Score :  0.652\n",
            "\n",
            "\n",
            "LinearSVR Regression\n",
            "\n",
            " Mean Absolute Error :  1594.737\n",
            " Mean Squared Error :  13693976.027\n",
            " Root Mean Squared Error :  3700.537\n",
            " R2 Score :  -0.041\n",
            "\n",
            "\n"
          ],
          "name": "stdout"
        }
      ]
    },
    {
      "cell_type": "markdown",
      "metadata": {
        "id": "jpSQl8URpGKO"
      },
      "source": [
        "#####  Least RMSE Value and High R2 Score for Gradient Boosting Regressor"
      ]
    },
    {
      "cell_type": "markdown",
      "metadata": {
        "id": "ZdeoBBKAIO2R"
      },
      "source": [
        "## Selecting Top Features"
      ]
    },
    {
      "cell_type": "markdown",
      "metadata": {
        "id": "Om0kGPcHIV8l"
      },
      "source": [
        "#### For the Output Variable Yield per Acre (kilos)"
      ]
    },
    {
      "cell_type": "code",
      "metadata": {
        "id": "61J5kRkIIUeQ",
        "outputId": "fc49950f-a6db-4c67-c51a-569ef5cd397c",
        "colab": {
          "base_uri": "https://localhost:8080/",
          "height": 235
        }
      },
      "source": [
        "dataframe = iterative_imputer(df)\n",
        "\n",
        "top_5_features_variable1(dataframe)"
      ],
      "execution_count": null,
      "outputs": [
        {
          "output_type": "stream",
          "text": [
            " Top 5 Features With Yield per Acre (kilos) as Output Variable \n",
            "\n"
          ],
          "name": "stdout"
        },
        {
          "output_type": "execute_result",
          "data": {
            "text/html": [
              "<div>\n",
              "<style scoped>\n",
              "    .dataframe tbody tr th:only-of-type {\n",
              "        vertical-align: middle;\n",
              "    }\n",
              "\n",
              "    .dataframe tbody tr th {\n",
              "        vertical-align: top;\n",
              "    }\n",
              "\n",
              "    .dataframe thead th {\n",
              "        text-align: right;\n",
              "    }\n",
              "</style>\n",
              "<table border=\"1\" class=\"dataframe\">\n",
              "  <thead>\n",
              "    <tr style=\"text-align: right;\">\n",
              "      <th></th>\n",
              "      <th>Features</th>\n",
              "      <th>Importance</th>\n",
              "    </tr>\n",
              "  </thead>\n",
              "  <tbody>\n",
              "    <tr>\n",
              "      <th>2</th>\n",
              "      <td>EncodedMonth</td>\n",
              "      <td>218.056662</td>\n",
              "    </tr>\n",
              "    <tr>\n",
              "      <th>1</th>\n",
              "      <td>EncodedSeedType</td>\n",
              "      <td>18.813511</td>\n",
              "    </tr>\n",
              "    <tr>\n",
              "      <th>0</th>\n",
              "      <td>EncodedVillage</td>\n",
              "      <td>14.568921</td>\n",
              "    </tr>\n",
              "    <tr>\n",
              "      <th>5</th>\n",
              "      <td>Pesticides used (kilos)</td>\n",
              "      <td>13.284093</td>\n",
              "    </tr>\n",
              "    <tr>\n",
              "      <th>6</th>\n",
              "      <td>Fungicides (kilos)</td>\n",
              "      <td>3.601434</td>\n",
              "    </tr>\n",
              "  </tbody>\n",
              "</table>\n",
              "</div>"
            ],
            "text/plain": [
              "                  Features  Importance\n",
              "2             EncodedMonth  218.056662\n",
              "1          EncodedSeedType   18.813511\n",
              "0           EncodedVillage   14.568921\n",
              "5  Pesticides used (kilos)   13.284093\n",
              "6       Fungicides (kilos)    3.601434"
            ]
          },
          "metadata": {
            "tags": []
          },
          "execution_count": 14
        }
      ]
    },
    {
      "cell_type": "markdown",
      "metadata": {
        "id": "rPosRPYwI8Rs"
      },
      "source": [
        "#### For the Output Variable Yield per Seed (kilos)"
      ]
    },
    {
      "cell_type": "code",
      "metadata": {
        "id": "gWZ_FoU5JCXy",
        "outputId": "3cb5fe58-9861-4a15-aca0-a70c9a9dd448",
        "colab": {
          "base_uri": "https://localhost:8080/",
          "height": 235
        }
      },
      "source": [
        "dataframe = iterative_imputer(df)\n",
        "\n",
        "top_5_features_variable2(dataframe)"
      ],
      "execution_count": null,
      "outputs": [
        {
          "output_type": "stream",
          "text": [
            " Top 5 Features With Yield per Seed (kilos) as Output Variable \n",
            "\n"
          ],
          "name": "stdout"
        },
        {
          "output_type": "execute_result",
          "data": {
            "text/html": [
              "<div>\n",
              "<style scoped>\n",
              "    .dataframe tbody tr th:only-of-type {\n",
              "        vertical-align: middle;\n",
              "    }\n",
              "\n",
              "    .dataframe tbody tr th {\n",
              "        vertical-align: top;\n",
              "    }\n",
              "\n",
              "    .dataframe thead th {\n",
              "        text-align: right;\n",
              "    }\n",
              "</style>\n",
              "<table border=\"1\" class=\"dataframe\">\n",
              "  <thead>\n",
              "    <tr style=\"text-align: right;\">\n",
              "      <th></th>\n",
              "      <th>Features</th>\n",
              "      <th>Importance</th>\n",
              "    </tr>\n",
              "  </thead>\n",
              "  <tbody>\n",
              "    <tr>\n",
              "      <th>2</th>\n",
              "      <td>EncodedMonth</td>\n",
              "      <td>207.989285</td>\n",
              "    </tr>\n",
              "    <tr>\n",
              "      <th>5</th>\n",
              "      <td>Pesticides used (kilos)</td>\n",
              "      <td>29.744753</td>\n",
              "    </tr>\n",
              "    <tr>\n",
              "      <th>8</th>\n",
              "      <td>Fertilizers used (kilos)</td>\n",
              "      <td>19.935524</td>\n",
              "    </tr>\n",
              "    <tr>\n",
              "      <th>7</th>\n",
              "      <td>Herbicides (kilos)</td>\n",
              "      <td>12.350891</td>\n",
              "    </tr>\n",
              "    <tr>\n",
              "      <th>3</th>\n",
              "      <td>Acres cultivated</td>\n",
              "      <td>12.193935</td>\n",
              "    </tr>\n",
              "  </tbody>\n",
              "</table>\n",
              "</div>"
            ],
            "text/plain": [
              "                   Features  Importance\n",
              "2              EncodedMonth  207.989285\n",
              "5   Pesticides used (kilos)   29.744753\n",
              "8  Fertilizers used (kilos)   19.935524\n",
              "7        Herbicides (kilos)   12.350891\n",
              "3          Acres cultivated   12.193935"
            ]
          },
          "metadata": {
            "tags": []
          },
          "execution_count": 15
        }
      ]
    },
    {
      "cell_type": "markdown",
      "metadata": {
        "id": "pGd6uAk2wicT"
      },
      "source": [
        "#### For The Output Variable Gross cob quantity (kilos)"
      ]
    },
    {
      "cell_type": "code",
      "metadata": {
        "id": "s0eXlW1hwrKw",
        "outputId": "0691c8a8-4699-4024-e265-2769f466d238",
        "colab": {
          "base_uri": "https://localhost:8080/",
          "height": 235
        }
      },
      "source": [
        "dataframe = iterative_imputer(df)\n",
        "\n",
        "top_5_features_variable3(dataframe)"
      ],
      "execution_count": null,
      "outputs": [
        {
          "output_type": "stream",
          "text": [
            " Top 5 Features With Gross cob quantity (kilos) as Output Variable \n",
            "\n"
          ],
          "name": "stdout"
        },
        {
          "output_type": "execute_result",
          "data": {
            "text/html": [
              "<div>\n",
              "<style scoped>\n",
              "    .dataframe tbody tr th:only-of-type {\n",
              "        vertical-align: middle;\n",
              "    }\n",
              "\n",
              "    .dataframe tbody tr th {\n",
              "        vertical-align: top;\n",
              "    }\n",
              "\n",
              "    .dataframe thead th {\n",
              "        text-align: right;\n",
              "    }\n",
              "</style>\n",
              "<table border=\"1\" class=\"dataframe\">\n",
              "  <thead>\n",
              "    <tr style=\"text-align: right;\">\n",
              "      <th></th>\n",
              "      <th>Features</th>\n",
              "      <th>Importance</th>\n",
              "    </tr>\n",
              "  </thead>\n",
              "  <tbody>\n",
              "    <tr>\n",
              "      <th>3</th>\n",
              "      <td>Acres cultivated</td>\n",
              "      <td>7548.562719</td>\n",
              "    </tr>\n",
              "    <tr>\n",
              "      <th>4</th>\n",
              "      <td>Seed Used (kilos)</td>\n",
              "      <td>4121.146037</td>\n",
              "    </tr>\n",
              "    <tr>\n",
              "      <th>7</th>\n",
              "      <td>Herbicides (kilos)</td>\n",
              "      <td>2733.122170</td>\n",
              "    </tr>\n",
              "    <tr>\n",
              "      <th>8</th>\n",
              "      <td>Fertilizers used (kilos)</td>\n",
              "      <td>1246.494268</td>\n",
              "    </tr>\n",
              "    <tr>\n",
              "      <th>5</th>\n",
              "      <td>Pesticides used (kilos)</td>\n",
              "      <td>1041.213936</td>\n",
              "    </tr>\n",
              "  </tbody>\n",
              "</table>\n",
              "</div>"
            ],
            "text/plain": [
              "                   Features   Importance\n",
              "3          Acres cultivated  7548.562719\n",
              "4         Seed Used (kilos)  4121.146037\n",
              "7        Herbicides (kilos)  2733.122170\n",
              "8  Fertilizers used (kilos)  1246.494268\n",
              "5   Pesticides used (kilos)  1041.213936"
            ]
          },
          "metadata": {
            "tags": []
          },
          "execution_count": 16
        }
      ]
    },
    {
      "cell_type": "markdown",
      "metadata": {
        "id": "Y2ApAvmGJHd_"
      },
      "source": [
        "#### For all three Output Variables"
      ]
    },
    {
      "cell_type": "code",
      "metadata": {
        "id": "ilAjpuf5JOUd",
        "outputId": "aaf5fd36-f759-4946-b151-162197d59117",
        "colab": {
          "base_uri": "https://localhost:8080/",
          "height": 563
        }
      },
      "source": [
        "dataframe = iterative_imputer(df)\n",
        "\n",
        "top_features(dataframe)"
      ],
      "execution_count": null,
      "outputs": [
        {
          "output_type": "stream",
          "text": [
            " Most to least important \n",
            "\n",
            "\n",
            " 1. EncodedMonth\n",
            "\n",
            "\n",
            " 2. Fungicides (kilos)\n",
            "\n",
            "\n",
            " 3. EncodedSeedType\n",
            "\n",
            "\n",
            " 4. EncodedVillage\n",
            "\n",
            "\n",
            " 5. Pesticides used (kilos)\n",
            "\n",
            "\n",
            " 6. Fertilizers used (kilos)\n",
            "\n",
            "\n",
            " 7. Acres cultivated\n",
            "\n",
            "\n",
            " 8. Herbicides (kilos)\n",
            "\n",
            "\n",
            " 9. Seed Used (kilos)\n",
            "\n",
            "\n"
          ],
          "name": "stdout"
        }
      ]
    },
    {
      "cell_type": "markdown",
      "metadata": {
        "id": "hlyaT_5ojY8s"
      },
      "source": [
        "## Pearson Distribution"
      ]
    },
    {
      "cell_type": "code",
      "metadata": {
        "id": "rX3Jw_yCkU0H",
        "outputId": "819412c1-17df-40db-852d-cb15715c94c4",
        "colab": {
          "base_uri": "https://localhost:8080/",
          "height": 442
        }
      },
      "source": [
        "gaussian_data = iterative_imputer(df)\n",
        "\n",
        "gaussian_data = gaussian_data.drop(['S.No' , 'EncodedFarmerID' , 'EncodedVillage' , 'EncodedSeedType' , 'EncodedMonth'] , axis = 1)\n",
        "\n",
        "gaussian_data.insert(0, 'Pesticides (kilos) per Acre', gaussian_data['Pesticides used (kilos)'] / gaussian_data['Acres cultivated'])\n",
        "\n",
        "gaussian_data.insert(1 ,'Fungicides (kilos) per Acre' , gaussian_data['Fungicides (kilos)'] / gaussian_data['Acres cultivated'])\n",
        "\n",
        "gaussian_data.insert(2 ,'Herbicides (kilos) per Acre' , gaussian_data['Herbicides (kilos)'] / gaussian_data['Acres cultivated'])\n",
        "\n",
        "gaussian_data.insert(3 ,'Fertilizers (kilos) per Acre' , gaussian_data['Fertilizers used (kilos)'] / gaussian_data['Acres cultivated'])\n",
        "\n",
        "gaussian_data.insert(4 ,'Pesticides (kilos) per Seeds (kilos)' , gaussian_data['Pesticides used (kilos)'] / gaussian_data['Seed Used (kilos)'])\n",
        "\n",
        "gaussian_data.insert(5 ,'Fungicides (kilos) per Seeds (kilos)' , gaussian_data['Fungicides (kilos)'] / gaussian_data['Seed Used (kilos)'])\n",
        "\n",
        "gaussian_data.insert(6 ,'Herbicides (kilos) per Seeds (kilos)' , gaussian_data['Herbicides (kilos)'] / gaussian_data['Seed Used (kilos)'])\n",
        "\n",
        "gaussian_data.insert(7 , 'Fertilizers (kilos) per Seeds (kilos)' , gaussian_data['Fertilizers used (kilos)'] / gaussian_data['Seed Used (kilos)'])\n",
        "\n",
        "gaussian_data = gaussian_data.drop(['Acres cultivated' , 'Seed Used (kilos)' , 'Pesticides used (kilos)' ,'Fungicides (kilos)' ,'Herbicides (kilos)' , 'Fertilizers used (kilos)' , 'Gross cob quantity (kilos)'] , axis = 1)\n",
        "\n",
        "gaussian_data"
      ],
      "execution_count": null,
      "outputs": [
        {
          "output_type": "execute_result",
          "data": {
            "text/html": [
              "<div>\n",
              "<style scoped>\n",
              "    .dataframe tbody tr th:only-of-type {\n",
              "        vertical-align: middle;\n",
              "    }\n",
              "\n",
              "    .dataframe tbody tr th {\n",
              "        vertical-align: top;\n",
              "    }\n",
              "\n",
              "    .dataframe thead th {\n",
              "        text-align: right;\n",
              "    }\n",
              "</style>\n",
              "<table border=\"1\" class=\"dataframe\">\n",
              "  <thead>\n",
              "    <tr style=\"text-align: right;\">\n",
              "      <th></th>\n",
              "      <th>Pesticides (kilos) per Acre</th>\n",
              "      <th>Fungicides (kilos) per Acre</th>\n",
              "      <th>Herbicides (kilos) per Acre</th>\n",
              "      <th>Fertilizers (kilos) per Acre</th>\n",
              "      <th>Pesticides (kilos) per Seeds (kilos)</th>\n",
              "      <th>Fungicides (kilos) per Seeds (kilos)</th>\n",
              "      <th>Herbicides (kilos) per Seeds (kilos)</th>\n",
              "      <th>Fertilizers (kilos) per Seeds (kilos)</th>\n",
              "      <th>Yield per Acre (kilos)</th>\n",
              "      <th>Yield per Seed (kilos)</th>\n",
              "    </tr>\n",
              "  </thead>\n",
              "  <tbody>\n",
              "    <tr>\n",
              "      <th>0</th>\n",
              "      <td>1.352500</td>\n",
              "      <td>1.012500</td>\n",
              "      <td>1.875000</td>\n",
              "      <td>815.750000</td>\n",
              "      <td>0.240444</td>\n",
              "      <td>0.180000</td>\n",
              "      <td>0.333333</td>\n",
              "      <td>145.022222</td>\n",
              "      <td>3518.750000</td>\n",
              "      <td>625.555556</td>\n",
              "    </tr>\n",
              "    <tr>\n",
              "      <th>1</th>\n",
              "      <td>0.132000</td>\n",
              "      <td>0.560000</td>\n",
              "      <td>1.500000</td>\n",
              "      <td>352.500000</td>\n",
              "      <td>0.017255</td>\n",
              "      <td>0.073203</td>\n",
              "      <td>0.196078</td>\n",
              "      <td>46.078431</td>\n",
              "      <td>4737.500000</td>\n",
              "      <td>619.281046</td>\n",
              "    </tr>\n",
              "    <tr>\n",
              "      <th>2</th>\n",
              "      <td>0.331429</td>\n",
              "      <td>0.585714</td>\n",
              "      <td>2.500000</td>\n",
              "      <td>358.928571</td>\n",
              "      <td>0.039322</td>\n",
              "      <td>0.069492</td>\n",
              "      <td>0.296610</td>\n",
              "      <td>42.584746</td>\n",
              "      <td>4985.714286</td>\n",
              "      <td>591.525424</td>\n",
              "    </tr>\n",
              "    <tr>\n",
              "      <th>3</th>\n",
              "      <td>0.217500</td>\n",
              "      <td>0.562500</td>\n",
              "      <td>1.406250</td>\n",
              "      <td>244.593750</td>\n",
              "      <td>0.029744</td>\n",
              "      <td>0.076923</td>\n",
              "      <td>0.192308</td>\n",
              "      <td>33.448718</td>\n",
              "      <td>4195.312500</td>\n",
              "      <td>573.717949</td>\n",
              "    </tr>\n",
              "    <tr>\n",
              "      <th>4</th>\n",
              "      <td>0.331765</td>\n",
              "      <td>0.658824</td>\n",
              "      <td>2.352941</td>\n",
              "      <td>591.176471</td>\n",
              "      <td>0.043385</td>\n",
              "      <td>0.086154</td>\n",
              "      <td>0.307692</td>\n",
              "      <td>77.307692</td>\n",
              "      <td>4088.235294</td>\n",
              "      <td>534.615385</td>\n",
              "    </tr>\n",
              "    <tr>\n",
              "      <th>...</th>\n",
              "      <td>...</td>\n",
              "      <td>...</td>\n",
              "      <td>...</td>\n",
              "      <td>...</td>\n",
              "      <td>...</td>\n",
              "      <td>...</td>\n",
              "      <td>...</td>\n",
              "      <td>...</td>\n",
              "      <td>...</td>\n",
              "      <td>...</td>\n",
              "    </tr>\n",
              "    <tr>\n",
              "      <th>955</th>\n",
              "      <td>0.032000</td>\n",
              "      <td>0.000000</td>\n",
              "      <td>2.000000</td>\n",
              "      <td>100.000000</td>\n",
              "      <td>0.005517</td>\n",
              "      <td>0.000000</td>\n",
              "      <td>0.344828</td>\n",
              "      <td>17.241379</td>\n",
              "      <td>2495.000000</td>\n",
              "      <td>430.172414</td>\n",
              "    </tr>\n",
              "    <tr>\n",
              "      <th>956</th>\n",
              "      <td>0.232000</td>\n",
              "      <td>0.290000</td>\n",
              "      <td>2.000000</td>\n",
              "      <td>550.000000</td>\n",
              "      <td>0.040000</td>\n",
              "      <td>0.050000</td>\n",
              "      <td>0.344828</td>\n",
              "      <td>94.827586</td>\n",
              "      <td>1330.000000</td>\n",
              "      <td>229.310345</td>\n",
              "    </tr>\n",
              "    <tr>\n",
              "      <th>957</th>\n",
              "      <td>0.617370</td>\n",
              "      <td>0.000000</td>\n",
              "      <td>1.832905</td>\n",
              "      <td>276.944017</td>\n",
              "      <td>0.079150</td>\n",
              "      <td>0.000000</td>\n",
              "      <td>0.234988</td>\n",
              "      <td>35.505643</td>\n",
              "      <td>2630.000000</td>\n",
              "      <td>337.179487</td>\n",
              "    </tr>\n",
              "    <tr>\n",
              "      <th>958</th>\n",
              "      <td>0.912500</td>\n",
              "      <td>1.087500</td>\n",
              "      <td>3.476855</td>\n",
              "      <td>460.643158</td>\n",
              "      <td>0.169767</td>\n",
              "      <td>0.202326</td>\n",
              "      <td>0.646857</td>\n",
              "      <td>85.701053</td>\n",
              "      <td>2112.500000</td>\n",
              "      <td>393.023256</td>\n",
              "    </tr>\n",
              "    <tr>\n",
              "      <th>959</th>\n",
              "      <td>0.360000</td>\n",
              "      <td>0.670000</td>\n",
              "      <td>2.000000</td>\n",
              "      <td>350.350000</td>\n",
              "      <td>0.063158</td>\n",
              "      <td>0.117544</td>\n",
              "      <td>0.350877</td>\n",
              "      <td>61.464912</td>\n",
              "      <td>1495.000000</td>\n",
              "      <td>262.280702</td>\n",
              "    </tr>\n",
              "  </tbody>\n",
              "</table>\n",
              "<p>960 rows × 10 columns</p>\n",
              "</div>"
            ],
            "text/plain": [
              "     Pesticides (kilos) per Acre  ...  Yield per Seed (kilos)\n",
              "0                       1.352500  ...              625.555556\n",
              "1                       0.132000  ...              619.281046\n",
              "2                       0.331429  ...              591.525424\n",
              "3                       0.217500  ...              573.717949\n",
              "4                       0.331765  ...              534.615385\n",
              "..                           ...  ...                     ...\n",
              "955                     0.032000  ...              430.172414\n",
              "956                     0.232000  ...              229.310345\n",
              "957                     0.617370  ...              337.179487\n",
              "958                     0.912500  ...              393.023256\n",
              "959                     0.360000  ...              262.280702\n",
              "\n",
              "[960 rows x 10 columns]"
            ]
          },
          "metadata": {
            "tags": []
          },
          "execution_count": 18
        }
      ]
    },
    {
      "cell_type": "markdown",
      "metadata": {
        "id": "9yKHhUZ79iXH"
      },
      "source": [
        "#### Plotting Histograms wrt input variables to verify that the data has a Gaussian Distribution"
      ]
    },
    {
      "cell_type": "code",
      "metadata": {
        "id": "ZGaTRJK4l6mo"
      },
      "source": [
        "def plot_histogram_input(dataframe) :\n",
        "\n",
        "  X = dataframe.drop(['Yield per Acre (kilos)','Yield per Seed (kilos)'] , axis = 1)\n",
        "\n",
        "  for i in range(len(X.columns)) :\n",
        "\n",
        "    plt.figure(i)\n",
        "\n",
        "    plt.hist(X[X.columns[i]])\n",
        "\n",
        "    plt.title(X.columns[i], color = 'black')\n",
        "\n",
        "  plt.show()"
      ],
      "execution_count": null,
      "outputs": []
    },
    {
      "cell_type": "code",
      "metadata": {
        "id": "L7GJuNeWoYff",
        "outputId": "f57f5113-58d5-40a0-907c-b2943d6a7080",
        "colab": {
          "base_uri": "https://localhost:8080/",
          "height": 1000
        }
      },
      "source": [
        "plot_histogram_input(gaussian_data)"
      ],
      "execution_count": null,
      "outputs": [
        {
          "output_type": "display_data",
          "data": {
            "image/png": "[encoded data removed]",
            "text/plain": [
              "<Figure size 432x288 with 1 Axes>"
            ]
          },
          "metadata": {
            "tags": [],
            "needs_background": "light"
          }
        },
        {
          "output_type": "display_data",
          "data": {
            "image/png": "[encoded data removed]",
            "text/plain": [
              "<Figure size 432x288 with 1 Axes>"
            ]
          },
          "metadata": {
            "tags": [],
            "needs_background": "light"
          }
        },
        {
          "output_type": "display_data",
          "data": {
            "image/png": "[encoded data removed]",
            "text/plain": [
              "<Figure size 432x288 with 1 Axes>"
            ]
          },
          "metadata": {
            "tags": [],
            "needs_background": "light"
          }
        },
        {
          "output_type": "display_data",
          "data": {
            "image/png": "[encoded data removed]",
            "text/plain": [
              "<Figure size 432x288 with 1 Axes>"
            ]
          },
          "metadata": {
            "tags": [],
            "needs_background": "light"
          }
        },
        {
          "output_type": "display_data",
          "data": {
            "image/png": "[encoded data removed]",
            "text/plain": [
              "<Figure size 432x288 with 1 Axes>"
            ]
          },
          "metadata": {
            "tags": [],
            "needs_background": "light"
          }
        },
        {
          "output_type": "display_data",
          "data": {
            "image/png": "[encoded data removed]",
            "text/plain": [
              "<Figure size 432x288 with 1 Axes>"
            ]
          },
          "metadata": {
            "tags": [],
            "needs_background": "light"
          }
        },
        {
          "output_type": "display_data",
          "data": {
            "image/png": "[encoded data removed]",
            "text/plain": [
              "<Figure size 432x288 with 1 Axes>"
            ]
          },
          "metadata": {
            "tags": [],
            "needs_background": "light"
          }
        },
        {
          "output_type": "display_data",
          "data": {
            "image/png": "[encoded data removed]",
            "text/plain": [
              "<Figure size 432x288 with 1 Axes>"
            ]
          },
          "metadata": {
            "tags": [],
            "needs_background": "light"
          }
        }
      ]
    },
    {
      "cell_type": "markdown",
      "metadata": {
        "id": "vQ2oMEai-yNb"
      },
      "source": [
        "#### Plotting Histograms wrt output variables to verify that the data has a Gaussian Distribution"
      ]
    },
    {
      "cell_type": "code",
      "metadata": {
        "id": "c0H9e4u7-8zK"
      },
      "source": [
        "def plot_histogram_output(dataframe) :\n",
        "\n",
        "  y = dataframe[['Yield per Acre (kilos)','Yield per Seed (kilos)']]\n",
        "\n",
        "  for i in range(len(y.columns)) :\n",
        "\n",
        "    plt.figure(i)\n",
        "\n",
        "    plt.hist(y[y.columns[i]])\n",
        "\n",
        "    plt.title(y.columns[i], color = 'black')\n",
        "\n",
        "  plt.show()"
      ],
      "execution_count": null,
      "outputs": []
    },
    {
      "cell_type": "code",
      "metadata": {
        "id": "PUuRidpd-9SS",
        "outputId": "2ef95f88-556c-4c94-aaa0-c1e55b071e50",
        "colab": {
          "base_uri": "https://localhost:8080/",
          "height": 545
        }
      },
      "source": [
        "plot_histogram_output(gaussian_data)"
      ],
      "execution_count": null,
      "outputs": [
        {
          "output_type": "display_data",
          "data": {
            "image/png": "[encoded data removed]",
            "text/plain": [
              "<Figure size 432x288 with 1 Axes>"
            ]
          },
          "metadata": {
            "tags": [],
            "needs_background": "light"
          }
        },
        {
          "output_type": "display_data",
          "data": {
            "image/png": "[encoded data removed]",
            "text/plain": [
              "<Figure size 432x288 with 1 Axes>"
            ]
          },
          "metadata": {
            "tags": [],
            "needs_background": "light"
          }
        }
      ]
    },
    {
      "cell_type": "markdown",
      "metadata": {
        "id": "jSHEkPjk986z"
      },
      "source": [
        "#### Plotting Graphs to verify that the data is not linearly distributed"
      ]
    },
    {
      "cell_type": "code",
      "metadata": {
        "id": "yQ04i691Wdz6"
      },
      "source": [
        "def plot_data(dataframe) :\n",
        "  \n",
        "  X = dataframe.drop(['Yield per Acre (kilos)','Yield per Seed (kilos)'] , axis = 1)\n",
        "  \n",
        "  y = dataframe[['Yield per Acre (kilos)','Yield per Seed (kilos)']]\n",
        "  \n",
        "  for i in X.columns :\n",
        " \n",
        "    plt.figure(i)\n",
        " \n",
        "    x = np.array(X[i])\n",
        " \n",
        "    y1 = np.array(y['Yield per Acre (kilos)'])\n",
        " \n",
        "    plt.plot(x, y1, 'o')\n",
        " \n",
        "    m, b = np.polyfit(x, y1, 1)\n",
        " \n",
        "    plt.plot(x, m*x + b)\n",
        " \n",
        "    plt.title(i, color = 'black')\n",
        " \n",
        "plt.show()"
      ],
      "execution_count": null,
      "outputs": []
    },
    {
      "cell_type": "code",
      "metadata": {
        "id": "y98Kh600doj1",
        "outputId": "b6c2b141-9f81-4908-9751-4104df3af4af",
        "colab": {
          "base_uri": "https://localhost:8080/",
          "height": 1000
        }
      },
      "source": [
        "plot_data(gaussian_data)"
      ],
      "execution_count": null,
      "outputs": [
        {
          "output_type": "display_data",
          "data": {
            "image/png": "[encoded data removed]",
            "text/plain": [
              "<Figure size 432x288 with 1 Axes>"
            ]
          },
          "metadata": {
            "tags": [],
            "needs_background": "light"
          }
        },
        {
          "output_type": "display_data",
          "data": {
            "image/png": "[encoded data removed]",
            "text/plain": [
              "<Figure size 432x288 with 1 Axes>"
            ]
          },
          "metadata": {
            "tags": [],
            "needs_background": "light"
          }
        },
        {
          "output_type": "display_data",
          "data": {
            "image/png": "[encoded data removed]",
            "text/plain": [
              "<Figure size 432x288 with 1 Axes>"
            ]
          },
          "metadata": {
            "tags": [],
            "needs_background": "light"
          }
        },
        {
          "output_type": "display_data",
          "data": {
            "image/png": "[encoded data removed]",
            "text/plain": [
              "<Figure size 432x288 with 1 Axes>"
            ]
          },
          "metadata": {
            "tags": [],
            "needs_background": "light"
          }
        },
        {
          "output_type": "display_data",
          "data": {
            "image/png": "[encoded data removed]",
            "text/plain": [
              "<Figure size 432x288 with 1 Axes>"
            ]
          },
          "metadata": {
            "tags": [],
            "needs_background": "light"
          }
        },
        {
          "output_type": "display_data",
          "data": {
            "image/png": "[encoded data removed]",
            "text/plain": [
              "<Figure size 432x288 with 1 Axes>"
            ]
          },
          "metadata": {
            "tags": [],
            "needs_background": "light"
          }
        },
        {
          "output_type": "display_data",
          "data": {
            "image/png": "[encoded data removed]",
            "text/plain": [
              "<Figure size 432x288 with 1 Axes>"
            ]
          },
          "metadata": {
            "tags": [],
            "needs_background": "light"
          }
        },
        {
          "output_type": "display_data",
          "data": {
            "image/png": "[encoded data removed]",
            "text/plain": [
              "<Figure size 432x288 with 1 Axes>"
            ]
          },
          "metadata": {
            "tags": [],
            "needs_background": "light"
          }
        }
      ]
    },
    {
      "cell_type": "markdown",
      "metadata": {
        "id": "1dWe7kMf-b8R"
      },
      "source": [
        "#### Correlation Heatmap"
      ]
    },
    {
      "cell_type": "code",
      "metadata": {
        "id": "JHF3c0rfoazM",
        "outputId": "26ab3a98-9329-4891-bd92-7e69ab485583",
        "colab": {
          "base_uri": "https://localhost:8080/",
          "height": 650
        }
      },
      "source": [
        "plt.figure(figsize = (10, 8))\n",
        "\n",
        "sns.heatmap(gaussian_data.corr(method = 'pearson'), xticklabels = gaussian_data.columns , yticklabels = gaussian_data.columns , annot = True, cmap = 'RdBu', linewidths = 0.5)\n",
        "\n",
        "plt.yticks(rotation = 45) \n",
        "\n",
        "plt.show()"
      ],
      "execution_count": null,
      "outputs": [
        {
          "output_type": "display_data",
          "data": {
            "image/png": "[encoded data removed]",
            "text/plain": [
              "<Figure size 720x576 with 2 Axes>"
            ]
          },
          "metadata": {
            "tags": [],
            "needs_background": "light"
          }
        }
      ]
    },
    {
      "cell_type": "markdown",
      "metadata": {
        "id": "brdt3KDmzcfQ"
      },
      "source": [
        "## Resuts"
      ]
    },
    {
      "cell_type": "markdown",
      "metadata": {
        "id": "W8Gd3ne50pGO"
      },
      "source": [
        "* When using Iterative Imputer the best fit is obtained when using the Bayesian Ridge Regressor\n",
        "* Data is not linearly distributed which is evident from the graphs plotted above\n",
        "* The model follows Gradient Boosting Regression as it has least RMSE Value and High R2 Score\n",
        "* The Top 5 Features along with their scores for the output variable Yield / Acre (kilos)\n",
        "  * Month\t218.056662\n",
        "  * Seed Type\t18.813511\n",
        "  * Village\t14.568921\n",
        "  * Pesticides used (kilos)\t13.284093\n",
        "  * Fungicides (kilos)\t3.601434\n",
        "* The Top 5 Features along with their for the output variable Yield / Seed (kilos)\n",
        "  * Month\t207.989285\n",
        "  * Pesticides used (kilos)\t29.744753\n",
        "  * Fertilizers used (kilos)\t19.935524\n",
        "  * Herbicides (kilos)\t12.350891\n",
        "  * Acres cultivated\t12.193935\n",
        "\n",
        "* The Top 5 Features for the output variable Gross cob quantity (kilos)\n",
        "  * Acres cultivated\t7548.562719\n",
        "  * Seed Used (kilos)\t4121.146037\n",
        "  * Herbicides (kilos)\t2733.122170\n",
        "  * Fertilizers used (kilos)\t1246.494268\n",
        "  * Pesticides used (kilos)\t1041.213936\n",
        "   \n",
        "* Top 5 Features for all the three output variables \n",
        "  * Month\n",
        "  * Seed Type\n",
        "  * Seed Used (kilos)\n",
        "  * Herbicides (kilos)\n",
        "  * Acres cultivated\n",
        "\n",
        "* After normalizing the distribution and finding the Pearson's coefficient\n",
        "  * The output variable Yield per Acre (kilos) has a correlation with the input variables in the following order\n",
        "      -  Fungicides (kilos) per Acre with a score of 0.11\n",
        "      -  Fertilizers (kilos) per Acre with a score of 0.1\n",
        "      -  Fungicides (kilos) per Seeds (kilos) with a score of 0.099\n",
        "      -  Pesticides (kilos) per Seeds (kilos) with a score of 0.092\n",
        "      -  Fertilizers (kilos) per Seeds (kilos) with a score of 0.087\n",
        "      -  Pesticides (kilos) per Acre with a score of 0.086\n",
        "      -  Herbicides (kilos) per Acre with a score of 0.017\n",
        "      -  Herbicicdes (kilos) per Seeds (kilos) with a score 0.00062\n",
        "  * The output variable Yield per Seeds (kilos) has a correlation with the input variables in the following order\n",
        "      -  Fertilizers (kilos) per Seeds (kilos) with a score of 0.31\n",
        "      -  Herbicicdes (kilos) per Seeds (kilos) with a score 0.22\n",
        "      -  Pesticides (kilos) per Seeds (kilos) with a score of 0.21\n",
        "      -  Fertilizers (kilos) per Acre with a score of 0.15\n",
        "      -  Fungicides (kilos) per Seeds (kilos) with a score of 0.13\n",
        "      -  Fungicides (kilos) per Acre with a score of 0.12\n",
        "      -  Pesticides (kilos) per Acre with a score of 0.093\n",
        "      -  Herbicides (kilos) per Acre with a score of 0.032\n"
      ]
    }
  ]
}