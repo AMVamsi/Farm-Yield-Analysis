{
 "cells": [
  {
   "cell_type": "markdown",
   "metadata": {
    "colab_type": "text",
    "id": "IFD9LGnNs7U9"
   },
   "source": [
    "## Imports"
   ]
  },
  {
   "cell_type": "code",
   "execution_count": null,
   "metadata": {
    "colab": {},
    "colab_type": "code",
    "id": "tMmzRL82s8i8"
   },
   "outputs": [],
   "source": [
    "import warnings\n",
    " \n",
    "warnings.simplefilter('ignore')\n",
    " \n",
    "import pandas as pd\n",
    " \n",
    "import numpy as np\n",
    " \n",
    "import matplotlib.pyplot as plt\n",
    " \n",
    "import seaborn as sns\n",
    " \n",
    "from sklearn.metrics import r2_score\n",
    " \n",
    "from sklearn.metrics import mean_absolute_error\n",
    " \n",
    "from sklearn.metrics import mean_squared_error\n",
    " \n",
    "from sklearn.model_selection import train_test_split\n",
    " \n",
    "from sklearn.ensemble import RandomForestRegressor\n",
    " \n",
    "from sklearn.linear_model import LinearRegression\n",
    " \n",
    "from sklearn.ensemble import GradientBoostingRegressor\n",
    " \n",
    "from sklearn.ensemble import ExtraTreesRegressor\n",
    " \n",
    "from sklearn.linear_model import BayesianRidge\n",
    " \n",
    "from sklearn.svm import SVR\n",
    " \n",
    "from xgboost import XGBRegressor\n",
    " \n",
    "from sklearn.multioutput import MultiOutputRegressor\n",
    " \n",
    "from sklearn.tree import DecisionTreeRegressor\n",
    " \n",
    "from sklearn.neighbors import KNeighborsRegressor\n",
    " \n",
    "from sklearn.cluster import KMeans\n",
    " \n",
    "from sklearn.preprocessing import LabelEncoder\n",
    " \n",
    "from sklearn.experimental import enable_iterative_imputer\n",
    " \n",
    "from sklearn.impute import IterativeImputer\n",
    " \n",
    "from sklearn.feature_selection import SelectKBest\n",
    " \n",
    "from sklearn.feature_selection import f_regression"
   ]
  },
  {
   "cell_type": "markdown",
   "metadata": {
    "colab_type": "text",
    "id": "PjP50xr3p8rL"
   },
   "source": [
    "## Data Preprocessing"
   ]
  },
  {
   "cell_type": "code",
   "execution_count": null,
   "metadata": {
    "colab": {},
    "colab_type": "code",
    "id": "l5Lf1Pr_tIKR"
   },
   "outputs": [],
   "source": [
    "df = pd.read_excel('Master data file.xlsx' , sheet_name = 'Data', header = 3)\n",
    " \n",
    "df.drop(df.columns[0], axis = 1, inplace = True)\n",
    " \n",
    "df = df.iloc[:-1]"
   ]
  },
  {
   "cell_type": "code",
   "execution_count": null,
   "metadata": {
    "colab": {
     "base_uri": "https://localhost:8080/",
     "height": 442
    },
    "colab_type": "code",
    "id": "-ndZhEdMthUk",
    "outputId": "35918136-b700-44f2-e661-ddfcb1f45d5d"
   },
   "outputs": [],
   "source": [
    "df"
   ]
  },
  {
   "cell_type": "code",
   "execution_count": null,
   "metadata": {
    "colab": {
     "base_uri": "https://localhost:8080/",
     "height": 290
    },
    "colab_type": "code",
    "id": "G8O0b3Wc09m8",
    "outputId": "281db927-5541-427d-ecaf-70d9e82307bf"
   },
   "outputs": [],
   "source": [
    "df['Yield/acre \\n(Col M/Col G) (kilos)'].fillna(0, inplace = True)\n",
    "\n",
    "df['Yield/seed used \\n(Col M/ Col H) (kilos)'].fillna(0.0 , inplace  = True)\n",
    "\n",
    "df = df.rename(columns={\"Yield/acre \\n(Col M/Col G) (kilos)\": \"Yield per Acre (kilos)\" , \"Yield/seed used \\n(Col M/ Col H) (kilos)\" : \"Yield per Seed (kilos)\"})\n",
    "\n",
    "df.isnull().sum()"
   ]
  },
  {
   "cell_type": "code",
   "execution_count": null,
   "metadata": {
    "colab": {
     "base_uri": "https://localhost:8080/",
     "height": 479
    },
    "colab_type": "code",
    "id": "hoF7vU_k1uEE",
    "outputId": "f3fdff18-2e30-4707-d593-69255fd3e5fe"
   },
   "outputs": [],
   "source": [
    "df = df.replace(0 , np.nan)\n",
    "\n",
    "data_label_encoder = LabelEncoder()\n",
    "\n",
    "encoded_list = data_label_encoder.fit_transform(df['Farmer ID'])\n",
    "\n",
    "df['EncodedFarmerID'] = encoded_list\n",
    "\n",
    "encoded_list = data_label_encoder.fit_transform(df['Village'])\n",
    "\n",
    "df['EncodedVillage'] = encoded_list\n",
    "\n",
    "encoded_list = data_label_encoder.fit_transform(df['Seed type'])\n",
    "\n",
    "df['EncodedSeedType'] = encoded_list\n",
    "\n",
    "encoded_list = data_label_encoder.fit_transform(df['Month of sowing'])\n",
    "\n",
    "df['EncodedMonth'] = encoded_list\n",
    "\n",
    "df = df.drop(['Farmer ID','Village','Seed type','Month of sowing'] , axis = 1)\n",
    "\n",
    "df = df[['S.No','EncodedFarmerID','EncodedVillage','EncodedSeedType','EncodedMonth','Acres cultivated','Seed Used (kilos)','Pesticides used (kilos)','Fungicides (kilos)','Herbicides (kilos)','Fertilizers used (kilos)','Gross cob quantity (kilos)','Yield per Acre (kilos)','Yield per Seed (kilos)']]\n",
    "\n",
    "df"
   ]
  },
  {
   "cell_type": "markdown",
   "metadata": {
    "colab_type": "text",
    "id": "qo0F4MrPUPvX"
   },
   "source": [
    "## Iterative Imputer"
   ]
  },
  {
   "cell_type": "code",
   "execution_count": null,
   "metadata": {
    "colab": {},
    "colab_type": "code",
    "id": "_5x73uWAGylt"
   },
   "outputs": [],
   "source": [
    "def iterative_imputer(df , est = BayesianRidge()) :\n",
    "  \n",
    "  X = df.drop(['S.No' , 'EncodedFarmerID'] , axis = 1)\n",
    "  \n",
    "  imp = IterativeImputer(missing_values = np.nan , max_iter = 10 , min_value = 0)\n",
    "\n",
    "  imp.fit(X)\n",
    "\n",
    "  IterativeImputer()\n",
    "\n",
    "  X = imp.transform(X)\n",
    "\n",
    "  dataframe = pd.DataFrame(X , columns = df.drop(['S.No' , 'EncodedFarmerID'] , axis = 1).columns)\n",
    "\n",
    "  dataframe.insert(0 , 'S.No' , df['S.No'])\n",
    "\n",
    "  dataframe.insert(1 , 'EncodedFarmerID' , df['EncodedFarmerID'])\n",
    "\n",
    "  return dataframe"
   ]
  },
  {
   "cell_type": "markdown",
   "metadata": {
    "colab_type": "text",
    "id": "DjsjSG-bs8Uy"
   },
   "source": [
    "## Regression Functions"
   ]
  },
  {
   "cell_type": "code",
   "execution_count": null,
   "metadata": {
    "colab": {},
    "colab_type": "code",
    "id": "-6SoEoHxnW7w"
   },
   "outputs": [],
   "source": [
    "def error_rate(y_test , y_pred , algo = ' Linear Regression') :\n",
    "\n",
    "  print(algo + '\\n')\n",
    "  \n",
    "  print(\" Mean Absolute Error : \", round(mean_absolute_error(y_test, y_pred) , 3))  \n",
    "\n",
    "  print(\" Mean Squared Error : \", round(mean_squared_error(y_test, y_pred) , 3))  \n",
    "\n",
    "  print(\" Root Mean Squared Error : \", round(np.sqrt(mean_squared_error(y_test, y_pred)) , 3))\n",
    "\n",
    "  print(\" R2 Score : \", round(r2_score(y_test,y_pred) , 3))\n",
    "\n",
    "  print('\\n')"
   ]
  },
  {
   "cell_type": "code",
   "execution_count": null,
   "metadata": {
    "colab": {},
    "colab_type": "code",
    "id": "GGox-nAlnVuX"
   },
   "outputs": [],
   "source": [
    "def regression_module(X_train, y_train, X_test, y_test) :\n",
    "  \n",
    "  reg = LinearRegression()\n",
    "\n",
    "  reg.fit(X_train , y_train)\n",
    "\n",
    "  y_pred = reg.predict(X_test)\n",
    "\n",
    "  error_rate(y_test , y_pred)\n",
    "\n",
    "  del reg , y_pred\n",
    "\n",
    "\n",
    "  reg = RandomForestRegressor()\n",
    "\n",
    "  reg.fit(X_train , y_train)\n",
    "\n",
    "  y_pred = reg.predict(X_test)\n",
    "\n",
    "  error_rate(y_test , y_pred , ' Random Forest Regression')\n",
    "\n",
    "  del reg , y_pred\n",
    "\n",
    "\n",
    "\n",
    "  reg = GradientBoostingRegressor()\n",
    "\n",
    "  reggb = MultiOutputRegressor(reg, n_jobs=-1)\n",
    "  \n",
    "  reggb.fit(X_train , y_train)\n",
    "\n",
    "  y_pred = reggb.predict(X_test)\n",
    "\n",
    "  error_rate(y_test , y_pred , ' Gradient Boosting Regression')\n",
    "\n",
    "  del reg , y_pred , reggb\n",
    "\n",
    "\n",
    "  reg = ExtraTreesRegressor()\n",
    "\n",
    "  reg.fit(X_train , y_train)\n",
    "\n",
    "  y_pred = reg.predict(X_test)\n",
    "\n",
    "  error_rate(y_test , y_pred , ' Extra Trees Regressor')\n",
    "\n",
    "  del reg , y_pred\n",
    "\n",
    "\n",
    "  reg = XGBRegressor(objective = 'reg:squarederror')\n",
    "\n",
    "  regxgb = MultiOutputRegressor(reg, n_jobs=-1)\n",
    "  \n",
    "  regxgb.fit(X_train , y_train)\n",
    "\n",
    "  y_pred = regxgb.predict(X_test)\n",
    "\n",
    "  error_rate(y_test , y_pred , ' XGBoost Regressor')\n",
    "\n",
    "  del reg , y_pred , regxgb\n",
    "\n",
    "\n",
    "  reg  = SVR()\n",
    "\n",
    "  regsvr = MultiOutputRegressor(reg, n_jobs = -1)\n",
    "\n",
    "  regsvr.fit(X_train,y_train)\n",
    "\n",
    "  y_pred  = regsvr.predict(X_test)\n",
    "\n",
    "  error_rate(y_test , y_pred , 'LinearSVR Regression')\n",
    "\n",
    "  del reg , y_pred , regsvr"
   ]
  },
  {
   "cell_type": "markdown",
   "metadata": {
    "colab_type": "text",
    "id": "HrajG06MtC6k"
   },
   "source": [
    "## Selecting Top 5 Features Considering Yield per Acre (kilos) as Output Variable"
   ]
  },
  {
   "cell_type": "code",
   "execution_count": null,
   "metadata": {
    "colab": {},
    "colab_type": "code",
    "id": "K4EBAYNasiA5"
   },
   "outputs": [],
   "source": [
    "def top_5_features_variable1(dataframe) :\n",
    "\n",
    "  print(' Top 5 Features With Yield per Acre (kilos) as Output Variable \\n')\n",
    "  \n",
    "  X = dataframe.drop(['S.No', 'EncodedFarmerID','Gross cob quantity (kilos)' , 'Yield per Acre (kilos)','Yield per Seed (kilos)'] , axis = 1)\n",
    "\n",
    "  y = dataframe[['Yield per Acre (kilos)']]\n",
    "  \n",
    "  select_k_best = SelectKBest(f_regression , k = 5)\n",
    "\n",
    "  k_best = select_k_best.fit(X , y)\n",
    "\n",
    "  data = pd.DataFrame(dict(Features = X.columns , Importance = select_k_best.scores_)).sort_values('Importance', ascending = False).head(5)\n",
    "\n",
    "  return data"
   ]
  },
  {
   "cell_type": "markdown",
   "metadata": {
    "colab_type": "text",
    "id": "31hikqVytKNe"
   },
   "source": [
    "## Selecting Top 5 Features Considering Yield per Seed (kilos) as Output Variable"
   ]
  },
  {
   "cell_type": "code",
   "execution_count": null,
   "metadata": {
    "colab": {},
    "colab_type": "code",
    "id": "XxNhLAXzszHa"
   },
   "outputs": [],
   "source": [
    "def top_5_features_variable2(dataframe) :\n",
    "\n",
    "  print(' Top 5 Features With Yield per Seed (kilos) as Output Variable \\n')\n",
    "  \n",
    "  X = dataframe.drop(['S.No', 'EncodedFarmerID','Gross cob quantity (kilos)' , 'Yield per Acre (kilos)','Yield per Seed (kilos)'], axis = 1)\n",
    "\n",
    "  y = dataframe[['Yield per Seed (kilos)']]\n",
    "  \n",
    "  select_k_best = SelectKBest(f_regression , k = 5)\n",
    "\n",
    "  k_best = select_k_best.fit(X , y)\n",
    "\n",
    "  data = pd.DataFrame(dict(Features = X.columns , Importance = select_k_best.scores_)).sort_values('Importance', ascending = False).head(5)\n",
    "\n",
    "  return data"
   ]
  },
  {
   "cell_type": "markdown",
   "metadata": {
    "colab_type": "text",
    "id": "dmihjRN3vzTh"
   },
   "source": [
    "## Selecting Top 5 Features Considering Gross cob quantity (kilos) as the Output Variable"
   ]
  },
  {
   "cell_type": "code",
   "execution_count": null,
   "metadata": {
    "colab": {},
    "colab_type": "code",
    "id": "zIhvGNCsvytY"
   },
   "outputs": [],
   "source": [
    "def top_5_features_variable3(dataframe) :\n",
    "\n",
    "  print(' Top 5 Features With Gross cob quantity (kilos) as Output Variable \\n')\n",
    "  \n",
    "  X = dataframe.drop(['S.No', 'EncodedFarmerID','Gross cob quantity (kilos)' , 'Yield per Acre (kilos)','Yield per Seed (kilos)'], axis = 1)\n",
    "\n",
    "  y = dataframe[['Gross cob quantity (kilos)']]\n",
    "  \n",
    "  select_k_best = SelectKBest(f_regression , k = 5)\n",
    "\n",
    "  k_best = select_k_best.fit(X , y)\n",
    "\n",
    "  data = pd.DataFrame(dict(Features = X.columns , Importance = select_k_best.scores_)).sort_values('Importance', ascending = False).head(5)\n",
    "\n",
    "  return data"
   ]
  },
  {
   "cell_type": "markdown",
   "metadata": {
    "colab_type": "text",
    "id": "1rJov9CW6HdP"
   },
   "source": [
    "## Selecting Features for all the three Output Variables in Descending Order\n"
   ]
  },
  {
   "cell_type": "code",
   "execution_count": null,
   "metadata": {
    "colab": {},
    "colab_type": "code",
    "id": "eTx-Y_u-6M5D"
   },
   "outputs": [],
   "source": [
    "def top_features(dataframe) :\n",
    "  \n",
    "  d = {}\n",
    "\n",
    "  X = dataframe.drop(['S.No', 'EncodedFarmerID','Gross cob quantity (kilos)' , 'Yield per Acre (kilos)','Yield per Seed (kilos)'] , axis = 1)\n",
    "\n",
    "  y = dataframe[['Gross cob quantity (kilos)' , 'Yield per Acre (kilos)','Yield per Seed (kilos)']]\n",
    "  \n",
    "  for i in X.columns :\n",
    "\n",
    "    x = X.drop([i], axis=1)\n",
    "\n",
    "    X_train , X_test , y_train , y_test = train_test_split(x , y , test_size = 0.15)\n",
    "\n",
    "    reg = GradientBoostingRegressor()\n",
    "\n",
    "    reggb = MultiOutputRegressor(reg, n_jobs = -1)\n",
    "\n",
    "    reggb.fit(X_train,y_train)\n",
    "\n",
    "    y_pred = reggb.predict(X_test)\n",
    "\n",
    "    d[i] = r2_score(y_test, y_pred)\n",
    "\n",
    "    del reg , reggb ,  y_pred , x, X_train , X_test , y_train , y_test\n",
    "\n",
    "  d = {k: v for k, v in sorted(d.items(), key=lambda x: x[1])}\n",
    "\n",
    "  print(' Most to least important ')\n",
    "\n",
    "  print('\\n')\n",
    "\n",
    "  count = 1\n",
    "  \n",
    "  for i in d.keys() :\n",
    "\n",
    "    print(' ' + str(count) + '. ' + i)\n",
    "\n",
    "    count = count + 1\n",
    "\n",
    "    print('\\n')"
   ]
  },
  {
   "cell_type": "markdown",
   "metadata": {
    "colab_type": "text",
    "id": "_Utx3Oajm_YG"
   },
   "source": [
    "## Iterative Imputer With Bayesian Ridge"
   ]
  },
  {
   "cell_type": "code",
   "execution_count": null,
   "metadata": {
    "colab": {
     "base_uri": "https://localhost:8080/",
     "height": 833
    },
    "colab_type": "code",
    "id": "eaPme1Epn1td",
    "outputId": "8bff400c-95e9-49d5-d480-12e52c689206"
   },
   "outputs": [],
   "source": [
    "dataframe = iterative_imputer(df)\n",
    "\n",
    "X = dataframe.drop(['S.No', 'EncodedFarmerID','Gross cob quantity (kilos)' , 'Yield per Acre (kilos)','Yield per Seed (kilos)'] , axis = 1)\n",
    "\n",
    "y = dataframe[['Gross cob quantity (kilos)' , 'Yield per Acre (kilos)','Yield per Seed (kilos)']]\n",
    "\n",
    "X_train , X_test , y_train , y_test = train_test_split(X , y , test_size = 0.15)\n",
    "\n",
    "regression_module(X_train , y_train , X_test , y_test)"
   ]
  },
  {
   "cell_type": "markdown",
   "metadata": {
    "colab_type": "text",
    "id": "jpSQl8URpGKO"
   },
   "source": [
    "#####  Least RMSE Value and High R2 Score for Gradient Boosting Regressor"
   ]
  },
  {
   "cell_type": "markdown",
   "metadata": {
    "colab_type": "text",
    "id": "ZdeoBBKAIO2R"
   },
   "source": [
    "## Selecting Top Features"
   ]
  },
  {
   "cell_type": "markdown",
   "metadata": {
    "colab_type": "text",
    "id": "Om0kGPcHIV8l"
   },
   "source": [
    "#### For the Output Variable Yield per Acre (kilos)"
   ]
  },
  {
   "cell_type": "code",
   "execution_count": null,
   "metadata": {
    "colab": {
     "base_uri": "https://localhost:8080/",
     "height": 238
    },
    "colab_type": "code",
    "id": "61J5kRkIIUeQ",
    "outputId": "23b43590-d8a7-4c6d-a452-27bc83d15ca8"
   },
   "outputs": [],
   "source": [
    "dataframe = iterative_imputer(df)\n",
    "\n",
    "top_5_features_variable1(dataframe)"
   ]
  },
  {
   "cell_type": "markdown",
   "metadata": {
    "colab_type": "text",
    "id": "rPosRPYwI8Rs"
   },
   "source": [
    "#### For the Output Variable Yield per Seed (kilos)"
   ]
  },
  {
   "cell_type": "code",
   "execution_count": null,
   "metadata": {
    "colab": {
     "base_uri": "https://localhost:8080/",
     "height": 238
    },
    "colab_type": "code",
    "id": "gWZ_FoU5JCXy",
    "outputId": "caaec107-7f22-48bf-ed23-af8eb63767e3"
   },
   "outputs": [],
   "source": [
    "dataframe = iterative_imputer(df)\n",
    "\n",
    "top_5_features_variable2(dataframe)"
   ]
  },
  {
   "cell_type": "markdown",
   "metadata": {
    "colab_type": "text",
    "id": "pGd6uAk2wicT"
   },
   "source": [
    "#### For The Output Variable Gross cob quantity (kilos)"
   ]
  },
  {
   "cell_type": "code",
   "execution_count": null,
   "metadata": {
    "colab": {
     "base_uri": "https://localhost:8080/",
     "height": 238
    },
    "colab_type": "code",
    "id": "s0eXlW1hwrKw",
    "outputId": "909dd372-22ac-4ce6-c66a-9a7495bd0579"
   },
   "outputs": [],
   "source": [
    "dataframe = iterative_imputer(df)\n",
    "\n",
    "top_5_features_variable3(dataframe)"
   ]
  },
  {
   "cell_type": "markdown",
   "metadata": {
    "colab_type": "text",
    "id": "Y2ApAvmGJHd_"
   },
   "source": [
    "#### For all three Output Variables"
   ]
  },
  {
   "cell_type": "code",
   "execution_count": null,
   "metadata": {
    "colab": {
     "base_uri": "https://localhost:8080/",
     "height": 527
    },
    "colab_type": "code",
    "id": "ilAjpuf5JOUd",
    "outputId": "d81867cf-74be-4b6c-9178-06622b0f8f99"
   },
   "outputs": [],
   "source": [
    "dataframe = iterative_imputer(df)\n",
    "\n",
    "top_features(dataframe)"
   ]
  },
  {
   "cell_type": "markdown",
   "metadata": {
    "colab_type": "text",
    "id": "hlyaT_5ojY8s"
   },
   "source": [
    "## Pearson Distribution"
   ]
  },
  {
   "cell_type": "code",
   "execution_count": null,
   "metadata": {
    "colab": {
     "base_uri": "https://localhost:8080/",
     "height": 442
    },
    "colab_type": "code",
    "id": "rX3Jw_yCkU0H",
    "outputId": "24985e65-f08b-4be2-ce17-522b3900a610"
   },
   "outputs": [],
   "source": [
    "gaussian_data = iterative_imputer(df)\n",
    "\n",
    "gaussian_data = gaussian_data.drop(['S.No' , 'EncodedFarmerID' , 'EncodedVillage' , 'EncodedSeedType' , 'EncodedMonth'] , axis = 1)\n",
    "\n",
    "gaussian_data.insert(0, 'Pesticides (kilos) per Acre', gaussian_data['Pesticides used (kilos)'] / gaussian_data['Acres cultivated'])\n",
    "\n",
    "gaussian_data.insert(1 ,'Fungicides (kilos) per Acre' , gaussian_data['Fungicides (kilos)'] / gaussian_data['Acres cultivated'])\n",
    "\n",
    "gaussian_data.insert(2 ,'Herbicides (kilos) per Acre' , gaussian_data['Herbicides (kilos)'] / gaussian_data['Acres cultivated'])\n",
    "\n",
    "gaussian_data.insert(3 ,'Fertilizers (kilos) per Acre' , gaussian_data['Fertilizers used (kilos)'] / gaussian_data['Acres cultivated'])\n",
    "\n",
    "gaussian_data.insert(4 ,'Pesticides (kilos) per Seeds (kilos)' , gaussian_data['Pesticides used (kilos)'] / gaussian_data['Seed Used (kilos)'])\n",
    "\n",
    "gaussian_data.insert(5 ,'Fungicides (kilos) per Seeds (kilos)' , gaussian_data['Fungicides (kilos)'] / gaussian_data['Seed Used (kilos)'])\n",
    "\n",
    "gaussian_data.insert(6 ,'Herbicides (kilos) per Seeds (kilos)' , gaussian_data['Herbicides (kilos)'] / gaussian_data['Seed Used (kilos)'])\n",
    "\n",
    "gaussian_data.insert(7 , 'Fertilizers (kilos) per Seeds (kilos)' , gaussian_data['Fertilizers used (kilos)'] / gaussian_data['Seed Used (kilos)'])\n",
    "\n",
    "gaussian_data = gaussian_data.drop(['Acres cultivated' , 'Seed Used (kilos)' , 'Pesticides used (kilos)' ,'Fungicides (kilos)' ,'Herbicides (kilos)' , 'Fertilizers used (kilos)' , 'Gross cob quantity (kilos)'] , axis = 1)\n",
    "\n",
    "gaussian_data"
   ]
  },
  {
   "cell_type": "markdown",
   "metadata": {
    "colab_type": "text",
    "id": "9yKHhUZ79iXH"
   },
   "source": [
    "#### Plotting Histograms wrt input variables to verify that the data has a Gaussian Distribution"
   ]
  },
  {
   "cell_type": "code",
   "execution_count": null,
   "metadata": {
    "colab": {},
    "colab_type": "code",
    "id": "ZGaTRJK4l6mo"
   },
   "outputs": [],
   "source": [
    "def plot_histogram_input(dataframe) :\n",
    "\n",
    "  X = dataframe.drop(['Yield per Acre (kilos)','Yield per Seed (kilos)'] , axis = 1)\n",
    "\n",
    "  for i in range(len(X.columns)) :\n",
    "\n",
    "    plt.figure(i)\n",
    "\n",
    "    plt.hist(X[X.columns[i]])\n",
    "\n",
    "    plt.title(X.columns[i], color = 'black')\n",
    "\n",
    "  plt.show()"
   ]
  },
  {
   "cell_type": "code",
   "execution_count": null,
   "metadata": {
    "colab": {
     "base_uri": "https://localhost:8080/",
     "height": 1000
    },
    "colab_type": "code",
    "id": "L7GJuNeWoYff",
    "outputId": "438cc027-b958-49b1-de7b-f6d355c1f697"
   },
   "outputs": [],
   "source": [
    "plot_histogram_input(gaussian_data)"
   ]
  },
  {
   "cell_type": "markdown",
   "metadata": {
    "colab_type": "text",
    "id": "vQ2oMEai-yNb"
   },
   "source": [
    "#### Plotting Histograms wrt output variables to verify that the data has a Gaussian Distribution"
   ]
  },
  {
   "cell_type": "code",
   "execution_count": null,
   "metadata": {
    "colab": {},
    "colab_type": "code",
    "id": "c0H9e4u7-8zK"
   },
   "outputs": [],
   "source": [
    "def plot_histogram_output(dataframe) :\n",
    "\n",
    "  y = dataframe[['Yield per Acre (kilos)','Yield per Seed (kilos)']]\n",
    "\n",
    "  for i in range(len(y.columns)) :\n",
    "\n",
    "    plt.figure(i)\n",
    "\n",
    "    plt.hist(y[y.columns[i]])\n",
    "\n",
    "    plt.title(y.columns[i], color = 'black')\n",
    "\n",
    "  plt.show()"
   ]
  },
  {
   "cell_type": "code",
   "execution_count": null,
   "metadata": {
    "colab": {
     "base_uri": "https://localhost:8080/",
     "height": 545
    },
    "colab_type": "code",
    "id": "PUuRidpd-9SS",
    "outputId": "56f49820-6849-4f05-f047-c43f1f76a56a"
   },
   "outputs": [],
   "source": [
    "plot_histogram_output(gaussian_data)"
   ]
  },
  {
   "cell_type": "markdown",
   "metadata": {
    "colab_type": "text",
    "id": "jSHEkPjk986z"
   },
   "source": [
    "#### Plotting Graphs to verify that the data is not linearly distributed"
   ]
  },
  {
   "cell_type": "code",
   "execution_count": null,
   "metadata": {
    "colab": {},
    "colab_type": "code",
    "id": "yQ04i691Wdz6"
   },
   "outputs": [],
   "source": [
    "def plot_data(dataframe) :\n",
    "  \n",
    "  X = dataframe.drop(['Yield per Acre (kilos)','Yield per Seed (kilos)'] , axis = 1)\n",
    "  \n",
    "  y = dataframe[['Yield per Acre (kilos)','Yield per Seed (kilos)']]\n",
    "  \n",
    "  for i in X.columns :\n",
    " \n",
    "    plt.figure(i)\n",
    " \n",
    "    x = np.array(X[i])\n",
    " \n",
    "    y1 = np.array(y['Yield per Acre (kilos)'])\n",
    " \n",
    "    plt.plot(x, y1, 'o')\n",
    " \n",
    "    m, b = np.polyfit(x, y1, 1)\n",
    " \n",
    "    plt.plot(x, m*x + b)\n",
    " \n",
    "    plt.title(i, color = 'black')\n",
    " \n",
    "plt.show()"
   ]
  },
  {
   "cell_type": "code",
   "execution_count": null,
   "metadata": {
    "colab": {
     "base_uri": "https://localhost:8080/",
     "height": 1000
    },
    "colab_type": "code",
    "id": "y98Kh600doj1",
    "outputId": "5af2131d-6746-4428-8333-9fc07fb17774"
   },
   "outputs": [],
   "source": [
    "plot_data(gaussian_data)"
   ]
  },
  {
   "cell_type": "markdown",
   "metadata": {
    "colab_type": "text",
    "id": "1dWe7kMf-b8R"
   },
   "source": [
    "#### Correlation Heatmap"
   ]
  },
  {
   "cell_type": "code",
   "execution_count": null,
   "metadata": {
    "colab": {
     "base_uri": "https://localhost:8080/",
     "height": 692
    },
    "colab_type": "code",
    "id": "JHF3c0rfoazM",
    "outputId": "9ffa0048-5500-45bf-b9cf-69dda5396195"
   },
   "outputs": [],
   "source": [
    "plt.figure(figsize = (10, 8))\n",
    "\n",
    "plt.title('\\n Heatmap showing correlation between different features \\n')\n",
    "\n",
    "sns.heatmap(gaussian_data.corr(method = 'pearson'), xticklabels = gaussian_data.columns , yticklabels = gaussian_data.columns , annot = True, cmap = 'RdBu', linewidths = 0.5)\n",
    "\n",
    "plt.yticks(rotation = 45) \n",
    "\n",
    "plt.show()"
   ]
  }
 ],
 "metadata": {
  "colab": {
   "collapsed_sections": [],
   "name": "MLChallenge.ipynb",
   "provenance": []
  },
  "kernelspec": {
   "display_name": "Python 3",
   "language": "python",
   "name": "python3"
  },
  "language_info": {
   "codemirror_mode": {
    "name": "ipython",
    "version": 3
   },
   "file_extension": ".py",
   "mimetype": "text/x-python",
   "name": "python",
   "nbconvert_exporter": "python",
   "pygments_lexer": "ipython3",
   "version": "3.8.3"
  }
 },
 "nbformat": 4,
 "nbformat_minor": 1
}
